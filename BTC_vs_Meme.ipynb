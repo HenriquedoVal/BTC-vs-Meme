{
  "nbformat": 4,
  "nbformat_minor": 0,
  "metadata": {
    "colab": {
      "name": "BTC vs Meme.ipynb",
      "provenance": [],
      "mount_file_id": "1HN_UD6VOKwk3GZ5Q9YL3kDvty1K3cEyI",
      "authorship_tag": "ABX9TyM63xRPUDDKVWXjPl02jWd6",
      "include_colab_link": true
    },
    "kernelspec": {
      "name": "python3",
      "display_name": "Python 3"
    },
    "language_info": {
      "name": "python"
    }
  },
  "cells": [
    {
      "cell_type": "markdown",
      "metadata": {
        "id": "view-in-github",
        "colab_type": "text"
      },
      "source": [
        "<a href=\"https://colab.research.google.com/github/HenriquedoVal/BTC-vs-Meme/blob/main/BTC_vs_Meme.ipynb\" target=\"_parent\"><img src=\"https://colab.research.google.com/assets/colab-badge.svg\" alt=\"Open In Colab\"/></a>"
      ]
    },
    {
      "cell_type": "markdown",
      "metadata": {
        "id": "LgUwyOa-DPbh"
      },
      "source": [
        "Sobre:\n",
        "Breve análise de algumas diferenças entre criptomoedas fundamentadas e memecoins (cujo fundamento é a _hype_). Aqui foram usados os dados do Bitcoin e da Dogecoin.\n",
        "Datasets retirados do Kaggle. Em desenvolvimento."
      ]
    },
    {
      "cell_type": "markdown",
      "metadata": {
        "id": "ZuA71U5a9eIO"
      },
      "source": [
        "# Setup"
      ]
    },
    {
      "cell_type": "code",
      "metadata": {
        "colab": {
          "base_uri": "https://localhost:8080/"
        },
        "id": "J1QwwlnvTP0h",
        "outputId": "ff7d714d-8870-4049-ed86-189d4d66b758"
      },
      "source": [
        "!pip install pandera #Sintaxe para acessar o terminal no Colab"
      ],
      "execution_count": 2,
      "outputs": [
        {
          "output_type": "stream",
          "name": "stdout",
          "text": [
            "Collecting pandera\n",
            "  Downloading pandera-0.7.2-py3-none-any.whl (166 kB)\n",
            "\u001b[?25l\r\u001b[K     |██                              | 10 kB 18.1 MB/s eta 0:00:01\r\u001b[K     |████                            | 20 kB 23.7 MB/s eta 0:00:01\r\u001b[K     |██████                          | 30 kB 14.6 MB/s eta 0:00:01\r\u001b[K     |███████▉                        | 40 kB 10.4 MB/s eta 0:00:01\r\u001b[K     |█████████▉                      | 51 kB 5.3 MB/s eta 0:00:01\r\u001b[K     |███████████▉                    | 61 kB 5.5 MB/s eta 0:00:01\r\u001b[K     |█████████████▉                  | 71 kB 6.1 MB/s eta 0:00:01\r\u001b[K     |███████████████▊                | 81 kB 6.9 MB/s eta 0:00:01\r\u001b[K     |█████████████████▊              | 92 kB 7.1 MB/s eta 0:00:01\r\u001b[K     |███████████████████▊            | 102 kB 5.5 MB/s eta 0:00:01\r\u001b[K     |█████████████████████▋          | 112 kB 5.5 MB/s eta 0:00:01\r\u001b[K     |███████████████████████▋        | 122 kB 5.5 MB/s eta 0:00:01\r\u001b[K     |█████████████████████████▋      | 133 kB 5.5 MB/s eta 0:00:01\r\u001b[K     |███████████████████████████▋    | 143 kB 5.5 MB/s eta 0:00:01\r\u001b[K     |█████████████████████████████▌  | 153 kB 5.5 MB/s eta 0:00:01\r\u001b[K     |███████████████████████████████▌| 163 kB 5.5 MB/s eta 0:00:01\r\u001b[K     |████████████████████████████████| 166 kB 5.5 MB/s \n",
            "\u001b[?25hRequirement already satisfied: wrapt in /usr/local/lib/python3.7/dist-packages (from pandera) (1.13.3)\n",
            "Requirement already satisfied: pyarrow in /usr/local/lib/python3.7/dist-packages (from pandera) (3.0.0)\n",
            "Requirement already satisfied: typing-extensions>=3.7.4.3 in /usr/local/lib/python3.7/dist-packages (from pandera) (3.10.0.2)\n",
            "Requirement already satisfied: numpy>=1.9.0 in /usr/local/lib/python3.7/dist-packages (from pandera) (1.19.5)\n",
            "Requirement already satisfied: packaging>=20.0 in /usr/local/lib/python3.7/dist-packages (from pandera) (21.2)\n",
            "Collecting typing-inspect>=0.6.0\n",
            "  Downloading typing_inspect-0.7.1-py3-none-any.whl (8.4 kB)\n",
            "Requirement already satisfied: pandas>=1.0 in /usr/local/lib/python3.7/dist-packages (from pandera) (1.1.5)\n",
            "Requirement already satisfied: pyparsing<3,>=2.0.2 in /usr/local/lib/python3.7/dist-packages (from packaging>=20.0->pandera) (2.4.7)\n",
            "Requirement already satisfied: pytz>=2017.2 in /usr/local/lib/python3.7/dist-packages (from pandas>=1.0->pandera) (2018.9)\n",
            "Requirement already satisfied: python-dateutil>=2.7.3 in /usr/local/lib/python3.7/dist-packages (from pandas>=1.0->pandera) (2.8.2)\n",
            "Requirement already satisfied: six>=1.5 in /usr/local/lib/python3.7/dist-packages (from python-dateutil>=2.7.3->pandas>=1.0->pandera) (1.15.0)\n",
            "Collecting mypy-extensions>=0.3.0\n",
            "  Downloading mypy_extensions-0.4.3-py2.py3-none-any.whl (4.5 kB)\n",
            "Installing collected packages: mypy-extensions, typing-inspect, pandera\n",
            "Successfully installed mypy-extensions-0.4.3 pandera-0.7.2 typing-inspect-0.7.1\n"
          ]
        }
      ]
    },
    {
      "cell_type": "code",
      "metadata": {
        "id": "Sh0Ne894R-mI"
      },
      "source": [
        "import pandas as pd\n",
        "import pandera as pa\n",
        "import matplotlib.pyplot as plt"
      ],
      "execution_count": 3,
      "outputs": []
    },
    {
      "cell_type": "code",
      "metadata": {
        "id": "pR7OI6HExdLt"
      },
      "source": [
        "pd.options.display.float_format = '{:,.2f}'.format #Para formatar a notação científica"
      ],
      "execution_count": 4,
      "outputs": []
    },
    {
      "cell_type": "markdown",
      "metadata": {
        "id": "MtLA1imS9J6y"
      },
      "source": [
        "# Bitcoin"
      ]
    },
    {
      "cell_type": "markdown",
      "metadata": {
        "id": "_Q5ac-JE9mkl"
      },
      "source": [
        "## Extração e validação"
      ]
    },
    {
      "cell_type": "code",
      "metadata": {
        "colab": {
          "base_uri": "https://localhost:8080/",
          "height": 204
        },
        "id": "0lUqBic2TYiF",
        "outputId": "22d3b0e7-d20e-457f-8d95-5a8332ed03a3"
      },
      "source": [
        "dfbtc = pd.read_csv('/content/drive/MyDrive/Datasets/BTC & Meme/Bitcoin.csv', parse_dates=['Date'])\n",
        "dfbtc.sample(5)"
      ],
      "execution_count": 5,
      "outputs": [
        {
          "output_type": "execute_result",
          "data": {
            "text/html": [
              "<div>\n",
              "<style scoped>\n",
              "    .dataframe tbody tr th:only-of-type {\n",
              "        vertical-align: middle;\n",
              "    }\n",
              "\n",
              "    .dataframe tbody tr th {\n",
              "        vertical-align: top;\n",
              "    }\n",
              "\n",
              "    .dataframe thead th {\n",
              "        text-align: right;\n",
              "    }\n",
              "</style>\n",
              "<table border=\"1\" class=\"dataframe\">\n",
              "  <thead>\n",
              "    <tr style=\"text-align: right;\">\n",
              "      <th></th>\n",
              "      <th>Date</th>\n",
              "      <th>Open</th>\n",
              "      <th>High</th>\n",
              "      <th>Low</th>\n",
              "      <th>Close</th>\n",
              "      <th>Volume</th>\n",
              "      <th>Market Cap</th>\n",
              "    </tr>\n",
              "  </thead>\n",
              "  <tbody>\n",
              "    <tr>\n",
              "      <th>1005</th>\n",
              "      <td>2018-09-26</td>\n",
              "      <td>6,452.79</td>\n",
              "      <td>6,585.91</td>\n",
              "      <td>6,397.89</td>\n",
              "      <td>6,495.00</td>\n",
              "      <td>4,437,300,000.00</td>\n",
              "      <td>112,300,336,125.00</td>\n",
              "    </tr>\n",
              "    <tr>\n",
              "      <th>2973</th>\n",
              "      <td>2013-07-05</td>\n",
              "      <td>112.25</td>\n",
              "      <td>113.44</td>\n",
              "      <td>97.70</td>\n",
              "      <td>111.50</td>\n",
              "      <td>0.00</td>\n",
              "      <td>1,240,593,600.00</td>\n",
              "    </tr>\n",
              "    <tr>\n",
              "      <th>127</th>\n",
              "      <td>2021-02-20</td>\n",
              "      <td>55,887.34</td>\n",
              "      <td>57,505.23</td>\n",
              "      <td>54,626.56</td>\n",
              "      <td>56,099.52</td>\n",
              "      <td>68,145,460,025.92</td>\n",
              "      <td>1,045,371,087,640.23</td>\n",
              "    </tr>\n",
              "    <tr>\n",
              "      <th>263</th>\n",
              "      <td>2020-07-10</td>\n",
              "      <td>10,603.36</td>\n",
              "      <td>10,680.51</td>\n",
              "      <td>10,562.51</td>\n",
              "      <td>10,668.97</td>\n",
              "      <td>37,799,458,435.80</td>\n",
              "      <td>197,485,816,054.93</td>\n",
              "    </tr>\n",
              "    <tr>\n",
              "      <th>1893</th>\n",
              "      <td>2016-04-21</td>\n",
              "      <td>441.42</td>\n",
              "      <td>450.55</td>\n",
              "      <td>440.95</td>\n",
              "      <td>449.42</td>\n",
              "      <td>68,204,704.00</td>\n",
              "      <td>6,947,795,902.50</td>\n",
              "    </tr>\n",
              "  </tbody>\n",
              "</table>\n",
              "</div>"
            ],
            "text/plain": [
              "           Date      Open  ...            Volume           Market Cap\n",
              "1005 2018-09-26  6,452.79  ...  4,437,300,000.00   112,300,336,125.00\n",
              "2973 2013-07-05    112.25  ...              0.00     1,240,593,600.00\n",
              "127  2021-02-20 55,887.34  ... 68,145,460,025.92 1,045,371,087,640.23\n",
              "263  2020-07-10 10,603.36  ... 37,799,458,435.80   197,485,816,054.93\n",
              "1893 2016-04-21    441.42  ...     68,204,704.00     6,947,795,902.50\n",
              "\n",
              "[5 rows x 7 columns]"
            ]
          },
          "metadata": {},
          "execution_count": 5
        }
      ]
    },
    {
      "cell_type": "code",
      "metadata": {
        "colab": {
          "base_uri": "https://localhost:8080/"
        },
        "id": "qbTooufiVLQ3",
        "outputId": "2ad0da9e-ce45-41bf-bf98-8d370e66e793"
      },
      "source": [
        "dfbtc.dtypes"
      ],
      "execution_count": 6,
      "outputs": [
        {
          "output_type": "execute_result",
          "data": {
            "text/plain": [
              "Date          datetime64[ns]\n",
              "Open                 float64\n",
              "High                 float64\n",
              "Low                  float64\n",
              "Close                float64\n",
              "Volume               float64\n",
              "Market Cap           float64\n",
              "dtype: object"
            ]
          },
          "metadata": {},
          "execution_count": 6
        }
      ]
    },
    {
      "cell_type": "code",
      "metadata": {
        "colab": {
          "base_uri": "https://localhost:8080/"
        },
        "id": "x9eE_iEEV9S3",
        "outputId": "98f56fe4-cf17-4f12-bd79-8fc42c92d76c"
      },
      "source": [
        "dfbtc.isnull().sum()"
      ],
      "execution_count": 7,
      "outputs": [
        {
          "output_type": "execute_result",
          "data": {
            "text/plain": [
              "Date          0\n",
              "Open          0\n",
              "High          0\n",
              "Low           0\n",
              "Close         0\n",
              "Volume        0\n",
              "Market Cap    0\n",
              "dtype: int64"
            ]
          },
          "metadata": {},
          "execution_count": 7
        }
      ]
    },
    {
      "cell_type": "code",
      "metadata": {
        "colab": {
          "base_uri": "https://localhost:8080/",
          "height": 204
        },
        "id": "TSaOUZdE-dyn",
        "outputId": "9b0d413d-51e9-4365-ff7a-31228a0bb42a"
      },
      "source": [
        "dfbtc['Drawdown'] = dfbtc['High'] - dfbtc['Low']\n",
        "dfbtc.sample(5)"
      ],
      "execution_count": 8,
      "outputs": [
        {
          "output_type": "execute_result",
          "data": {
            "text/html": [
              "<div>\n",
              "<style scoped>\n",
              "    .dataframe tbody tr th:only-of-type {\n",
              "        vertical-align: middle;\n",
              "    }\n",
              "\n",
              "    .dataframe tbody tr th {\n",
              "        vertical-align: top;\n",
              "    }\n",
              "\n",
              "    .dataframe thead th {\n",
              "        text-align: right;\n",
              "    }\n",
              "</style>\n",
              "<table border=\"1\" class=\"dataframe\">\n",
              "  <thead>\n",
              "    <tr style=\"text-align: right;\">\n",
              "      <th></th>\n",
              "      <th>Date</th>\n",
              "      <th>Open</th>\n",
              "      <th>High</th>\n",
              "      <th>Low</th>\n",
              "      <th>Close</th>\n",
              "      <th>Volume</th>\n",
              "      <th>Market Cap</th>\n",
              "      <th>Drawdown</th>\n",
              "    </tr>\n",
              "  </thead>\n",
              "  <tbody>\n",
              "    <tr>\n",
              "      <th>989</th>\n",
              "      <td>2018-12-10</td>\n",
              "      <td>6,239.25</td>\n",
              "      <td>6,328.50</td>\n",
              "      <td>6,236.47</td>\n",
              "      <td>6,274.58</td>\n",
              "      <td>3,783,500,000.00</td>\n",
              "      <td>108,669,526,315.00</td>\n",
              "      <td>92.03</td>\n",
              "    </tr>\n",
              "    <tr>\n",
              "      <th>494</th>\n",
              "      <td>2020-02-19</td>\n",
              "      <td>10,143.80</td>\n",
              "      <td>10,191.68</td>\n",
              "      <td>9,611.22</td>\n",
              "      <td>9,633.39</td>\n",
              "      <td>46,992,019,709.92</td>\n",
              "      <td>175,585,931,679.44</td>\n",
              "      <td>580.45</td>\n",
              "    </tr>\n",
              "    <tr>\n",
              "      <th>1937</th>\n",
              "      <td>2016-08-03</td>\n",
              "      <td>414.46</td>\n",
              "      <td>416.24</td>\n",
              "      <td>411.09</td>\n",
              "      <td>413.97</td>\n",
              "      <td>70,311,696.00</td>\n",
              "      <td>6,331,422,308.90</td>\n",
              "      <td>5.15</td>\n",
              "    </tr>\n",
              "    <tr>\n",
              "      <th>2633</th>\n",
              "      <td>2014-12-04</td>\n",
              "      <td>420.89</td>\n",
              "      <td>439.61</td>\n",
              "      <td>415.79</td>\n",
              "      <td>421.12</td>\n",
              "      <td>19,226,500.00</td>\n",
              "      <td>5,321,874,505.80</td>\n",
              "      <td>23.82</td>\n",
              "    </tr>\n",
              "    <tr>\n",
              "      <th>2590</th>\n",
              "      <td>2014-05-25</td>\n",
              "      <td>525.23</td>\n",
              "      <td>576.48</td>\n",
              "      <td>525.23</td>\n",
              "      <td>571.59</td>\n",
              "      <td>47,010,300.00</td>\n",
              "      <td>7,325,371,780.10</td>\n",
              "      <td>51.25</td>\n",
              "    </tr>\n",
              "  </tbody>\n",
              "</table>\n",
              "</div>"
            ],
            "text/plain": [
              "           Date      Open  ...         Market Cap  Drawdown\n",
              "989  2018-12-10  6,239.25  ... 108,669,526,315.00     92.03\n",
              "494  2020-02-19 10,143.80  ... 175,585,931,679.44    580.45\n",
              "1937 2016-08-03    414.46  ...   6,331,422,308.90      5.15\n",
              "2633 2014-12-04    420.89  ...   5,321,874,505.80     23.82\n",
              "2590 2014-05-25    525.23  ...   7,325,371,780.10     51.25\n",
              "\n",
              "[5 rows x 8 columns]"
            ]
          },
          "metadata": {},
          "execution_count": 8
        }
      ]
    },
    {
      "cell_type": "code",
      "metadata": {
        "id": "-gbk4Lo_-L0s"
      },
      "source": [
        "#Validação dos dados - Perfumaria, uma vez que a fonte de dados é bem consistente\n",
        "schema = pa.DataFrameSchema(\n",
        "    columns = {\n",
        "        'Date': pa.Column(pa.DateTime),\n",
        "        'Open': pa.Column(pa.Float),\n",
        "        'High': pa.Column(pa.Float),\n",
        "        'Low': pa.Column(pa.Float),\n",
        "        'Close': pa.Column(pa.Float),\n",
        "        'Volume': pa.Column(pa.Float),\n",
        "        'Market Cap': pa.Column(pa.Float),\n",
        "        'Drawdown': pa.Column(pa.Float)\n",
        "})"
      ],
      "execution_count": 9,
      "outputs": []
    },
    {
      "cell_type": "code",
      "metadata": {
        "colab": {
          "base_uri": "https://localhost:8080/",
          "height": 419
        },
        "id": "VO9rhl0s_zbe",
        "outputId": "8a426a2c-50f6-44e4-d8d5-6bd78a72844b"
      },
      "source": [
        "schema.validate(dfbtc)"
      ],
      "execution_count": 10,
      "outputs": [
        {
          "output_type": "execute_result",
          "data": {
            "text/html": [
              "<div>\n",
              "<style scoped>\n",
              "    .dataframe tbody tr th:only-of-type {\n",
              "        vertical-align: middle;\n",
              "    }\n",
              "\n",
              "    .dataframe tbody tr th {\n",
              "        vertical-align: top;\n",
              "    }\n",
              "\n",
              "    .dataframe thead th {\n",
              "        text-align: right;\n",
              "    }\n",
              "</style>\n",
              "<table border=\"1\" class=\"dataframe\">\n",
              "  <thead>\n",
              "    <tr style=\"text-align: right;\">\n",
              "      <th></th>\n",
              "      <th>Date</th>\n",
              "      <th>Open</th>\n",
              "      <th>High</th>\n",
              "      <th>Low</th>\n",
              "      <th>Close</th>\n",
              "      <th>Volume</th>\n",
              "      <th>Market Cap</th>\n",
              "      <th>Drawdown</th>\n",
              "    </tr>\n",
              "  </thead>\n",
              "  <tbody>\n",
              "    <tr>\n",
              "      <th>0</th>\n",
              "      <td>2021-06-27</td>\n",
              "      <td>32,287.52</td>\n",
              "      <td>34,656.13</td>\n",
              "      <td>32,071.76</td>\n",
              "      <td>34,649.64</td>\n",
              "      <td>35,511,640,893.97</td>\n",
              "      <td>649,461,677,014.12</td>\n",
              "      <td>2,584.37</td>\n",
              "    </tr>\n",
              "    <tr>\n",
              "      <th>1</th>\n",
              "      <td>2021-06-26</td>\n",
              "      <td>31,594.66</td>\n",
              "      <td>32,637.59</td>\n",
              "      <td>30,184.50</td>\n",
              "      <td>32,186.28</td>\n",
              "      <td>38,585,385,521.38</td>\n",
              "      <td>603,276,028,308.72</td>\n",
              "      <td>2,453.09</td>\n",
              "    </tr>\n",
              "    <tr>\n",
              "      <th>2</th>\n",
              "      <td>2021-06-25</td>\n",
              "      <td>34,659.10</td>\n",
              "      <td>35,487.25</td>\n",
              "      <td>31,350.88</td>\n",
              "      <td>31,637.78</td>\n",
              "      <td>40,230,904,226.00</td>\n",
              "      <td>592,978,211,189.03</td>\n",
              "      <td>4,136.36</td>\n",
              "    </tr>\n",
              "    <tr>\n",
              "      <th>3</th>\n",
              "      <td>2021-06-24</td>\n",
              "      <td>33,682.80</td>\n",
              "      <td>35,228.85</td>\n",
              "      <td>32,385.21</td>\n",
              "      <td>34,662.44</td>\n",
              "      <td>33,123,368,116.18</td>\n",
              "      <td>649,643,997,441.37</td>\n",
              "      <td>2,843.64</td>\n",
              "    </tr>\n",
              "    <tr>\n",
              "      <th>4</th>\n",
              "      <td>2021-06-23</td>\n",
              "      <td>32,515.71</td>\n",
              "      <td>34,753.41</td>\n",
              "      <td>31,772.63</td>\n",
              "      <td>33,723.03</td>\n",
              "      <td>46,317,108,924.69</td>\n",
              "      <td>632,011,278,436.38</td>\n",
              "      <td>2,980.78</td>\n",
              "    </tr>\n",
              "    <tr>\n",
              "      <th>...</th>\n",
              "      <td>...</td>\n",
              "      <td>...</td>\n",
              "      <td>...</td>\n",
              "      <td>...</td>\n",
              "      <td>...</td>\n",
              "      <td>...</td>\n",
              "      <td>...</td>\n",
              "      <td>...</td>\n",
              "    </tr>\n",
              "    <tr>\n",
              "      <th>2978</th>\n",
              "      <td>2013-02-05</td>\n",
              "      <td>116.38</td>\n",
              "      <td>125.60</td>\n",
              "      <td>92.28</td>\n",
              "      <td>105.21</td>\n",
              "      <td>0.00</td>\n",
              "      <td>1,168,517,495.25</td>\n",
              "      <td>33.32</td>\n",
              "    </tr>\n",
              "    <tr>\n",
              "      <th>2979</th>\n",
              "      <td>2013-01-05</td>\n",
              "      <td>139.00</td>\n",
              "      <td>139.89</td>\n",
              "      <td>107.72</td>\n",
              "      <td>116.99</td>\n",
              "      <td>0.00</td>\n",
              "      <td>1,298,954,593.75</td>\n",
              "      <td>32.17</td>\n",
              "    </tr>\n",
              "    <tr>\n",
              "      <th>2980</th>\n",
              "      <td>2013-04-30</td>\n",
              "      <td>144.00</td>\n",
              "      <td>146.93</td>\n",
              "      <td>134.05</td>\n",
              "      <td>139.00</td>\n",
              "      <td>0.00</td>\n",
              "      <td>1,542,813,125.00</td>\n",
              "      <td>12.88</td>\n",
              "    </tr>\n",
              "    <tr>\n",
              "      <th>2981</th>\n",
              "      <td>2013-04-29</td>\n",
              "      <td>134.44</td>\n",
              "      <td>147.49</td>\n",
              "      <td>134.00</td>\n",
              "      <td>144.54</td>\n",
              "      <td>0.00</td>\n",
              "      <td>1,603,768,864.50</td>\n",
              "      <td>13.49</td>\n",
              "    </tr>\n",
              "    <tr>\n",
              "      <th>2982</th>\n",
              "      <td>2013-04-28</td>\n",
              "      <td>135.30</td>\n",
              "      <td>135.98</td>\n",
              "      <td>132.10</td>\n",
              "      <td>134.21</td>\n",
              "      <td>0.00</td>\n",
              "      <td>1,488,566,728.25</td>\n",
              "      <td>3.88</td>\n",
              "    </tr>\n",
              "  </tbody>\n",
              "</table>\n",
              "<p>2983 rows × 8 columns</p>\n",
              "</div>"
            ],
            "text/plain": [
              "           Date      Open  ...         Market Cap  Drawdown\n",
              "0    2021-06-27 32,287.52  ... 649,461,677,014.12  2,584.37\n",
              "1    2021-06-26 31,594.66  ... 603,276,028,308.72  2,453.09\n",
              "2    2021-06-25 34,659.10  ... 592,978,211,189.03  4,136.36\n",
              "3    2021-06-24 33,682.80  ... 649,643,997,441.37  2,843.64\n",
              "4    2021-06-23 32,515.71  ... 632,011,278,436.38  2,980.78\n",
              "...         ...       ...  ...                ...       ...\n",
              "2978 2013-02-05    116.38  ...   1,168,517,495.25     33.32\n",
              "2979 2013-01-05    139.00  ...   1,298,954,593.75     32.17\n",
              "2980 2013-04-30    144.00  ...   1,542,813,125.00     12.88\n",
              "2981 2013-04-29    134.44  ...   1,603,768,864.50     13.49\n",
              "2982 2013-04-28    135.30  ...   1,488,566,728.25      3.88\n",
              "\n",
              "[2983 rows x 8 columns]"
            ]
          },
          "metadata": {},
          "execution_count": 10
        }
      ]
    },
    {
      "cell_type": "markdown",
      "metadata": {
        "id": "1YVxeK3o9S9d"
      },
      "source": [
        "# Dogecoin"
      ]
    },
    {
      "cell_type": "markdown",
      "metadata": {
        "id": "RDFAFLfo9uSo"
      },
      "source": [
        "## Extração e validação"
      ]
    },
    {
      "cell_type": "code",
      "metadata": {
        "colab": {
          "base_uri": "https://localhost:8080/",
          "height": 419
        },
        "id": "bsdnGE-ZW_Kv",
        "outputId": "cbf13a70-d609-42bc-b5ff-7e6293972051"
      },
      "source": [
        "dfdoge = pd.read_csv('/content/drive/MyDrive/Datasets/BTC & Meme/Dogecoin.csv', parse_dates=['Date'])\n",
        "dfdoge"
      ],
      "execution_count": 11,
      "outputs": [
        {
          "output_type": "execute_result",
          "data": {
            "text/html": [
              "<div>\n",
              "<style scoped>\n",
              "    .dataframe tbody tr th:only-of-type {\n",
              "        vertical-align: middle;\n",
              "    }\n",
              "\n",
              "    .dataframe tbody tr th {\n",
              "        vertical-align: top;\n",
              "    }\n",
              "\n",
              "    .dataframe thead th {\n",
              "        text-align: right;\n",
              "    }\n",
              "</style>\n",
              "<table border=\"1\" class=\"dataframe\">\n",
              "  <thead>\n",
              "    <tr style=\"text-align: right;\">\n",
              "      <th></th>\n",
              "      <th>Date</th>\n",
              "      <th>Open</th>\n",
              "      <th>High</th>\n",
              "      <th>Low</th>\n",
              "      <th>Close</th>\n",
              "      <th>Volume</th>\n",
              "      <th>Market Cap</th>\n",
              "    </tr>\n",
              "  </thead>\n",
              "  <tbody>\n",
              "    <tr>\n",
              "      <th>0</th>\n",
              "      <td>2021-06-27</td>\n",
              "      <td>0.25</td>\n",
              "      <td>0.27</td>\n",
              "      <td>0.24</td>\n",
              "      <td>0.26</td>\n",
              "      <td>2,167,521,670.48</td>\n",
              "      <td>34,431,598,885.98</td>\n",
              "    </tr>\n",
              "    <tr>\n",
              "      <th>1</th>\n",
              "      <td>2021-06-26</td>\n",
              "      <td>0.24</td>\n",
              "      <td>0.26</td>\n",
              "      <td>0.23</td>\n",
              "      <td>0.24</td>\n",
              "      <td>2,649,457,301.97</td>\n",
              "      <td>31,867,533,718.63</td>\n",
              "    </tr>\n",
              "    <tr>\n",
              "      <th>2</th>\n",
              "      <td>2021-06-25</td>\n",
              "      <td>0.26</td>\n",
              "      <td>0.29</td>\n",
              "      <td>0.23</td>\n",
              "      <td>0.24</td>\n",
              "      <td>5,542,163,262.31</td>\n",
              "      <td>31,131,171,916.24</td>\n",
              "    </tr>\n",
              "    <tr>\n",
              "      <th>3</th>\n",
              "      <td>2021-06-24</td>\n",
              "      <td>0.23</td>\n",
              "      <td>0.27</td>\n",
              "      <td>0.22</td>\n",
              "      <td>0.26</td>\n",
              "      <td>3,844,648,059.04</td>\n",
              "      <td>34,205,589,762.94</td>\n",
              "    </tr>\n",
              "    <tr>\n",
              "      <th>4</th>\n",
              "      <td>2021-06-23</td>\n",
              "      <td>0.19</td>\n",
              "      <td>0.25</td>\n",
              "      <td>0.18</td>\n",
              "      <td>0.23</td>\n",
              "      <td>5,098,674,891.27</td>\n",
              "      <td>30,217,348,680.34</td>\n",
              "    </tr>\n",
              "    <tr>\n",
              "      <th>...</th>\n",
              "      <td>...</td>\n",
              "      <td>...</td>\n",
              "      <td>...</td>\n",
              "      <td>...</td>\n",
              "      <td>...</td>\n",
              "      <td>...</td>\n",
              "      <td>...</td>\n",
              "    </tr>\n",
              "    <tr>\n",
              "      <th>2747</th>\n",
              "      <td>2013-12-19</td>\n",
              "      <td>0.00</td>\n",
              "      <td>0.00</td>\n",
              "      <td>0.00</td>\n",
              "      <td>0.00</td>\n",
              "      <td>0.00</td>\n",
              "      <td>11,150,339.22</td>\n",
              "    </tr>\n",
              "    <tr>\n",
              "      <th>2748</th>\n",
              "      <td>2013-12-18</td>\n",
              "      <td>0.00</td>\n",
              "      <td>0.00</td>\n",
              "      <td>0.00</td>\n",
              "      <td>0.00</td>\n",
              "      <td>0.00</td>\n",
              "      <td>3,188,943.21</td>\n",
              "    </tr>\n",
              "    <tr>\n",
              "      <th>2749</th>\n",
              "      <td>2013-12-17</td>\n",
              "      <td>0.00</td>\n",
              "      <td>0.00</td>\n",
              "      <td>0.00</td>\n",
              "      <td>0.00</td>\n",
              "      <td>0.00</td>\n",
              "      <td>2,169,687.98</td>\n",
              "    </tr>\n",
              "    <tr>\n",
              "      <th>2750</th>\n",
              "      <td>2013-12-16</td>\n",
              "      <td>0.00</td>\n",
              "      <td>0.00</td>\n",
              "      <td>0.00</td>\n",
              "      <td>0.00</td>\n",
              "      <td>0.00</td>\n",
              "      <td>1,509,085.16</td>\n",
              "    </tr>\n",
              "    <tr>\n",
              "      <th>2751</th>\n",
              "      <td>2013-12-15</td>\n",
              "      <td>0.00</td>\n",
              "      <td>0.00</td>\n",
              "      <td>0.00</td>\n",
              "      <td>0.00</td>\n",
              "      <td>0.00</td>\n",
              "      <td>1,960,300.32</td>\n",
              "    </tr>\n",
              "  </tbody>\n",
              "</table>\n",
              "<p>2752 rows × 7 columns</p>\n",
              "</div>"
            ],
            "text/plain": [
              "           Date  Open  High  Low  Close           Volume        Market Cap\n",
              "0    2021-06-27  0.25  0.27 0.24   0.26 2,167,521,670.48 34,431,598,885.98\n",
              "1    2021-06-26  0.24  0.26 0.23   0.24 2,649,457,301.97 31,867,533,718.63\n",
              "2    2021-06-25  0.26  0.29 0.23   0.24 5,542,163,262.31 31,131,171,916.24\n",
              "3    2021-06-24  0.23  0.27 0.22   0.26 3,844,648,059.04 34,205,589,762.94\n",
              "4    2021-06-23  0.19  0.25 0.18   0.23 5,098,674,891.27 30,217,348,680.34\n",
              "...         ...   ...   ...  ...    ...              ...               ...\n",
              "2747 2013-12-19  0.00  0.00 0.00   0.00             0.00     11,150,339.22\n",
              "2748 2013-12-18  0.00  0.00 0.00   0.00             0.00      3,188,943.21\n",
              "2749 2013-12-17  0.00  0.00 0.00   0.00             0.00      2,169,687.98\n",
              "2750 2013-12-16  0.00  0.00 0.00   0.00             0.00      1,509,085.16\n",
              "2751 2013-12-15  0.00  0.00 0.00   0.00             0.00      1,960,300.32\n",
              "\n",
              "[2752 rows x 7 columns]"
            ]
          },
          "metadata": {},
          "execution_count": 11
        }
      ]
    },
    {
      "cell_type": "code",
      "metadata": {
        "colab": {
          "base_uri": "https://localhost:8080/"
        },
        "id": "nO2KrRAGXS17",
        "outputId": "bdb0e06a-1e15-4478-930e-ffb75a1d5912"
      },
      "source": [
        "dfdoge.dtypes"
      ],
      "execution_count": 12,
      "outputs": [
        {
          "output_type": "execute_result",
          "data": {
            "text/plain": [
              "Date          datetime64[ns]\n",
              "Open                 float64\n",
              "High                 float64\n",
              "Low                  float64\n",
              "Close                float64\n",
              "Volume               float64\n",
              "Market Cap           float64\n",
              "dtype: object"
            ]
          },
          "metadata": {},
          "execution_count": 12
        }
      ]
    },
    {
      "cell_type": "code",
      "metadata": {
        "colab": {
          "base_uri": "https://localhost:8080/"
        },
        "id": "FRh0SIeOXX8X",
        "outputId": "d3acc35a-841e-4a2b-bc11-9285a7356683"
      },
      "source": [
        "dfdoge.isnull().sum()"
      ],
      "execution_count": 13,
      "outputs": [
        {
          "output_type": "execute_result",
          "data": {
            "text/plain": [
              "Date          0\n",
              "Open          0\n",
              "High          0\n",
              "Low           0\n",
              "Close         0\n",
              "Volume        0\n",
              "Market Cap    0\n",
              "dtype: int64"
            ]
          },
          "metadata": {},
          "execution_count": 13
        }
      ]
    },
    {
      "cell_type": "code",
      "metadata": {
        "colab": {
          "base_uri": "https://localhost:8080/",
          "height": 204
        },
        "id": "ew31HxNRxv0W",
        "outputId": "fddc3890-0a69-40d6-f854-902ce5168001"
      },
      "source": [
        "dfdoge['Drawdown'] = dfdoge['High'] - dfdoge['Low'] #Drawdown é uma forma de medir a volatilidade, neste caso, diária\n",
        "dfdoge.sample(5)"
      ],
      "execution_count": 14,
      "outputs": [
        {
          "output_type": "execute_result",
          "data": {
            "text/html": [
              "<div>\n",
              "<style scoped>\n",
              "    .dataframe tbody tr th:only-of-type {\n",
              "        vertical-align: middle;\n",
              "    }\n",
              "\n",
              "    .dataframe tbody tr th {\n",
              "        vertical-align: top;\n",
              "    }\n",
              "\n",
              "    .dataframe thead th {\n",
              "        text-align: right;\n",
              "    }\n",
              "</style>\n",
              "<table border=\"1\" class=\"dataframe\">\n",
              "  <thead>\n",
              "    <tr style=\"text-align: right;\">\n",
              "      <th></th>\n",
              "      <th>Date</th>\n",
              "      <th>Open</th>\n",
              "      <th>High</th>\n",
              "      <th>Low</th>\n",
              "      <th>Close</th>\n",
              "      <th>Volume</th>\n",
              "      <th>Market Cap</th>\n",
              "      <th>Drawdown</th>\n",
              "    </tr>\n",
              "  </thead>\n",
              "  <tbody>\n",
              "    <tr>\n",
              "      <th>2622</th>\n",
              "      <td>2014-04-23</td>\n",
              "      <td>0.00</td>\n",
              "      <td>0.00</td>\n",
              "      <td>0.00</td>\n",
              "      <td>0.00</td>\n",
              "      <td>1,276,710.00</td>\n",
              "      <td>41,808,109.74</td>\n",
              "      <td>0.00</td>\n",
              "    </tr>\n",
              "    <tr>\n",
              "      <th>1449</th>\n",
              "      <td>2017-09-07</td>\n",
              "      <td>0.00</td>\n",
              "      <td>0.00</td>\n",
              "      <td>0.00</td>\n",
              "      <td>0.00</td>\n",
              "      <td>4,122,620.00</td>\n",
              "      <td>256,657,309.21</td>\n",
              "      <td>0.00</td>\n",
              "    </tr>\n",
              "    <tr>\n",
              "      <th>1923</th>\n",
              "      <td>2016-03-22</td>\n",
              "      <td>0.00</td>\n",
              "      <td>0.00</td>\n",
              "      <td>0.00</td>\n",
              "      <td>0.00</td>\n",
              "      <td>173,999.00</td>\n",
              "      <td>22,463,611.28</td>\n",
              "      <td>0.00</td>\n",
              "    </tr>\n",
              "    <tr>\n",
              "      <th>1236</th>\n",
              "      <td>2018-07-02</td>\n",
              "      <td>0.00</td>\n",
              "      <td>0.00</td>\n",
              "      <td>0.00</td>\n",
              "      <td>0.00</td>\n",
              "      <td>12,990,100.00</td>\n",
              "      <td>486,004,813.25</td>\n",
              "      <td>0.00</td>\n",
              "    </tr>\n",
              "    <tr>\n",
              "      <th>427</th>\n",
              "      <td>2020-04-26</td>\n",
              "      <td>0.00</td>\n",
              "      <td>0.00</td>\n",
              "      <td>0.00</td>\n",
              "      <td>0.00</td>\n",
              "      <td>287,859,775.04</td>\n",
              "      <td>299,489,107.99</td>\n",
              "      <td>0.00</td>\n",
              "    </tr>\n",
              "  </tbody>\n",
              "</table>\n",
              "</div>"
            ],
            "text/plain": [
              "           Date  Open  High  Low  Close         Volume     Market Cap  Drawdown\n",
              "2622 2014-04-23  0.00  0.00 0.00   0.00   1,276,710.00  41,808,109.74      0.00\n",
              "1449 2017-09-07  0.00  0.00 0.00   0.00   4,122,620.00 256,657,309.21      0.00\n",
              "1923 2016-03-22  0.00  0.00 0.00   0.00     173,999.00  22,463,611.28      0.00\n",
              "1236 2018-07-02  0.00  0.00 0.00   0.00  12,990,100.00 486,004,813.25      0.00\n",
              "427  2020-04-26  0.00  0.00 0.00   0.00 287,859,775.04 299,489,107.99      0.00"
            ]
          },
          "metadata": {},
          "execution_count": 14
        }
      ]
    },
    {
      "cell_type": "code",
      "metadata": {
        "colab": {
          "base_uri": "https://localhost:8080/",
          "height": 419
        },
        "id": "pOf7sC8OCNC6",
        "outputId": "531ca696-7d8d-4ed3-d18f-3cd0e79e7d52"
      },
      "source": [
        "schema.validate(dfdoge) #Schema já está definido"
      ],
      "execution_count": 15,
      "outputs": [
        {
          "output_type": "execute_result",
          "data": {
            "text/html": [
              "<div>\n",
              "<style scoped>\n",
              "    .dataframe tbody tr th:only-of-type {\n",
              "        vertical-align: middle;\n",
              "    }\n",
              "\n",
              "    .dataframe tbody tr th {\n",
              "        vertical-align: top;\n",
              "    }\n",
              "\n",
              "    .dataframe thead th {\n",
              "        text-align: right;\n",
              "    }\n",
              "</style>\n",
              "<table border=\"1\" class=\"dataframe\">\n",
              "  <thead>\n",
              "    <tr style=\"text-align: right;\">\n",
              "      <th></th>\n",
              "      <th>Date</th>\n",
              "      <th>Open</th>\n",
              "      <th>High</th>\n",
              "      <th>Low</th>\n",
              "      <th>Close</th>\n",
              "      <th>Volume</th>\n",
              "      <th>Market Cap</th>\n",
              "      <th>Drawdown</th>\n",
              "    </tr>\n",
              "  </thead>\n",
              "  <tbody>\n",
              "    <tr>\n",
              "      <th>0</th>\n",
              "      <td>2021-06-27</td>\n",
              "      <td>0.25</td>\n",
              "      <td>0.27</td>\n",
              "      <td>0.24</td>\n",
              "      <td>0.26</td>\n",
              "      <td>2,167,521,670.48</td>\n",
              "      <td>34,431,598,885.98</td>\n",
              "      <td>0.03</td>\n",
              "    </tr>\n",
              "    <tr>\n",
              "      <th>1</th>\n",
              "      <td>2021-06-26</td>\n",
              "      <td>0.24</td>\n",
              "      <td>0.26</td>\n",
              "      <td>0.23</td>\n",
              "      <td>0.24</td>\n",
              "      <td>2,649,457,301.97</td>\n",
              "      <td>31,867,533,718.63</td>\n",
              "      <td>0.02</td>\n",
              "    </tr>\n",
              "    <tr>\n",
              "      <th>2</th>\n",
              "      <td>2021-06-25</td>\n",
              "      <td>0.26</td>\n",
              "      <td>0.29</td>\n",
              "      <td>0.23</td>\n",
              "      <td>0.24</td>\n",
              "      <td>5,542,163,262.31</td>\n",
              "      <td>31,131,171,916.24</td>\n",
              "      <td>0.06</td>\n",
              "    </tr>\n",
              "    <tr>\n",
              "      <th>3</th>\n",
              "      <td>2021-06-24</td>\n",
              "      <td>0.23</td>\n",
              "      <td>0.27</td>\n",
              "      <td>0.22</td>\n",
              "      <td>0.26</td>\n",
              "      <td>3,844,648,059.04</td>\n",
              "      <td>34,205,589,762.94</td>\n",
              "      <td>0.05</td>\n",
              "    </tr>\n",
              "    <tr>\n",
              "      <th>4</th>\n",
              "      <td>2021-06-23</td>\n",
              "      <td>0.19</td>\n",
              "      <td>0.25</td>\n",
              "      <td>0.18</td>\n",
              "      <td>0.23</td>\n",
              "      <td>5,098,674,891.27</td>\n",
              "      <td>30,217,348,680.34</td>\n",
              "      <td>0.07</td>\n",
              "    </tr>\n",
              "    <tr>\n",
              "      <th>...</th>\n",
              "      <td>...</td>\n",
              "      <td>...</td>\n",
              "      <td>...</td>\n",
              "      <td>...</td>\n",
              "      <td>...</td>\n",
              "      <td>...</td>\n",
              "      <td>...</td>\n",
              "      <td>...</td>\n",
              "    </tr>\n",
              "    <tr>\n",
              "      <th>2747</th>\n",
              "      <td>2013-12-19</td>\n",
              "      <td>0.00</td>\n",
              "      <td>0.00</td>\n",
              "      <td>0.00</td>\n",
              "      <td>0.00</td>\n",
              "      <td>0.00</td>\n",
              "      <td>11,150,339.22</td>\n",
              "      <td>0.00</td>\n",
              "    </tr>\n",
              "    <tr>\n",
              "      <th>2748</th>\n",
              "      <td>2013-12-18</td>\n",
              "      <td>0.00</td>\n",
              "      <td>0.00</td>\n",
              "      <td>0.00</td>\n",
              "      <td>0.00</td>\n",
              "      <td>0.00</td>\n",
              "      <td>3,188,943.21</td>\n",
              "      <td>0.00</td>\n",
              "    </tr>\n",
              "    <tr>\n",
              "      <th>2749</th>\n",
              "      <td>2013-12-17</td>\n",
              "      <td>0.00</td>\n",
              "      <td>0.00</td>\n",
              "      <td>0.00</td>\n",
              "      <td>0.00</td>\n",
              "      <td>0.00</td>\n",
              "      <td>2,169,687.98</td>\n",
              "      <td>0.00</td>\n",
              "    </tr>\n",
              "    <tr>\n",
              "      <th>2750</th>\n",
              "      <td>2013-12-16</td>\n",
              "      <td>0.00</td>\n",
              "      <td>0.00</td>\n",
              "      <td>0.00</td>\n",
              "      <td>0.00</td>\n",
              "      <td>0.00</td>\n",
              "      <td>1,509,085.16</td>\n",
              "      <td>0.00</td>\n",
              "    </tr>\n",
              "    <tr>\n",
              "      <th>2751</th>\n",
              "      <td>2013-12-15</td>\n",
              "      <td>0.00</td>\n",
              "      <td>0.00</td>\n",
              "      <td>0.00</td>\n",
              "      <td>0.00</td>\n",
              "      <td>0.00</td>\n",
              "      <td>1,960,300.32</td>\n",
              "      <td>0.00</td>\n",
              "    </tr>\n",
              "  </tbody>\n",
              "</table>\n",
              "<p>2752 rows × 8 columns</p>\n",
              "</div>"
            ],
            "text/plain": [
              "           Date  Open  High  ...           Volume        Market Cap  Drawdown\n",
              "0    2021-06-27  0.25  0.27  ... 2,167,521,670.48 34,431,598,885.98      0.03\n",
              "1    2021-06-26  0.24  0.26  ... 2,649,457,301.97 31,867,533,718.63      0.02\n",
              "2    2021-06-25  0.26  0.29  ... 5,542,163,262.31 31,131,171,916.24      0.06\n",
              "3    2021-06-24  0.23  0.27  ... 3,844,648,059.04 34,205,589,762.94      0.05\n",
              "4    2021-06-23  0.19  0.25  ... 5,098,674,891.27 30,217,348,680.34      0.07\n",
              "...         ...   ...   ...  ...              ...               ...       ...\n",
              "2747 2013-12-19  0.00  0.00  ...             0.00     11,150,339.22      0.00\n",
              "2748 2013-12-18  0.00  0.00  ...             0.00      3,188,943.21      0.00\n",
              "2749 2013-12-17  0.00  0.00  ...             0.00      2,169,687.98      0.00\n",
              "2750 2013-12-16  0.00  0.00  ...             0.00      1,509,085.16      0.00\n",
              "2751 2013-12-15  0.00  0.00  ...             0.00      1,960,300.32      0.00\n",
              "\n",
              "[2752 rows x 8 columns]"
            ]
          },
          "metadata": {},
          "execution_count": 15
        }
      ]
    },
    {
      "cell_type": "markdown",
      "metadata": {
        "id": "e2Rk42HF93fb"
      },
      "source": [
        "# Análise exploratória"
      ]
    },
    {
      "cell_type": "code",
      "metadata": {
        "colab": {
          "base_uri": "https://localhost:8080/",
          "height": 80
        },
        "id": "JTF3YE2iLhEt",
        "outputId": "2642096b-1321-4c79-9eb5-627feab5204b"
      },
      "source": [
        "dfbtc.loc[dfbtc['Market Cap'] == dfbtc['Market Cap'].max()]"
      ],
      "execution_count": 16,
      "outputs": [
        {
          "output_type": "execute_result",
          "data": {
            "text/html": [
              "<div>\n",
              "<style scoped>\n",
              "    .dataframe tbody tr th:only-of-type {\n",
              "        vertical-align: middle;\n",
              "    }\n",
              "\n",
              "    .dataframe tbody tr th {\n",
              "        vertical-align: top;\n",
              "    }\n",
              "\n",
              "    .dataframe thead th {\n",
              "        text-align: right;\n",
              "    }\n",
              "</style>\n",
              "<table border=\"1\" class=\"dataframe\">\n",
              "  <thead>\n",
              "    <tr style=\"text-align: right;\">\n",
              "      <th></th>\n",
              "      <th>Date</th>\n",
              "      <th>Open</th>\n",
              "      <th>High</th>\n",
              "      <th>Low</th>\n",
              "      <th>Close</th>\n",
              "      <th>Volume</th>\n",
              "      <th>Market Cap</th>\n",
              "      <th>Drawdown</th>\n",
              "    </tr>\n",
              "  </thead>\n",
              "  <tbody>\n",
              "    <tr>\n",
              "      <th>75</th>\n",
              "      <td>2021-04-13</td>\n",
              "      <td>59,890.02</td>\n",
              "      <td>63,742.28</td>\n",
              "      <td>59,869.96</td>\n",
              "      <td>63,503.46</td>\n",
              "      <td>69,983,454,361.84</td>\n",
              "      <td>1,186,364,044,140.27</td>\n",
              "      <td>3,872.33</td>\n",
              "    </tr>\n",
              "  </tbody>\n",
              "</table>\n",
              "</div>"
            ],
            "text/plain": [
              "         Date      Open  ...           Market Cap  Drawdown\n",
              "75 2021-04-13 59,890.02  ... 1,186,364,044,140.27  3,872.33\n",
              "\n",
              "[1 rows x 8 columns]"
            ]
          },
          "metadata": {},
          "execution_count": 16
        }
      ]
    },
    {
      "cell_type": "code",
      "metadata": {
        "colab": {
          "base_uri": "https://localhost:8080/",
          "height": 80
        },
        "id": "WWvRHZRoCn97",
        "outputId": "a4f405ff-df59-4512-9f81-5b969f8416b6"
      },
      "source": [
        "dfdoge.loc[dfdoge['Market Cap'] == dfdoge['Market Cap'].max()]"
      ],
      "execution_count": 17,
      "outputs": [
        {
          "output_type": "execute_result",
          "data": {
            "text/html": [
              "<div>\n",
              "<style scoped>\n",
              "    .dataframe tbody tr th:only-of-type {\n",
              "        vertical-align: middle;\n",
              "    }\n",
              "\n",
              "    .dataframe tbody tr th {\n",
              "        vertical-align: top;\n",
              "    }\n",
              "\n",
              "    .dataframe thead th {\n",
              "        text-align: right;\n",
              "    }\n",
              "</style>\n",
              "<table border=\"1\" class=\"dataframe\">\n",
              "  <thead>\n",
              "    <tr style=\"text-align: right;\">\n",
              "      <th></th>\n",
              "      <th>Date</th>\n",
              "      <th>Open</th>\n",
              "      <th>High</th>\n",
              "      <th>Low</th>\n",
              "      <th>Close</th>\n",
              "      <th>Volume</th>\n",
              "      <th>Market Cap</th>\n",
              "      <th>Drawdown</th>\n",
              "    </tr>\n",
              "  </thead>\n",
              "  <tbody>\n",
              "    <tr>\n",
              "      <th>51</th>\n",
              "      <td>2021-07-05</td>\n",
              "      <td>0.58</td>\n",
              "      <td>0.73</td>\n",
              "      <td>0.52</td>\n",
              "      <td>0.68</td>\n",
              "      <td>28,615,083,656.92</td>\n",
              "      <td>88,680,824,303.07</td>\n",
              "      <td>0.21</td>\n",
              "    </tr>\n",
              "  </tbody>\n",
              "</table>\n",
              "</div>"
            ],
            "text/plain": [
              "         Date  Open  High  ...            Volume        Market Cap  Drawdown\n",
              "51 2021-07-05  0.58  0.73  ... 28,615,083,656.92 88,680,824,303.07      0.21\n",
              "\n",
              "[1 rows x 8 columns]"
            ]
          },
          "metadata": {},
          "execution_count": 17
        }
      ]
    },
    {
      "cell_type": "code",
      "metadata": {
        "colab": {
          "base_uri": "https://localhost:8080/",
          "height": 280
        },
        "id": "x8ryNZlKX5TY",
        "outputId": "706351ed-0358-406b-ab47-5370808e6732"
      },
      "source": [
        "dfbtc.groupby('Date')['Market Cap'].sum().plot();"
      ],
      "execution_count": 18,
      "outputs": [
        {
          "output_type": "display_data",
          "data": {
            "image/png": "[encoded data removed]",
            "text/plain": [
              "<Figure size 432x288 with 1 Axes>"
            ]
          },
          "metadata": {
            "needs_background": "light"
          }
        }
      ]
    },
    {
      "cell_type": "code",
      "metadata": {
        "colab": {
          "base_uri": "https://localhost:8080/",
          "height": 280
        },
        "id": "Oym5gNNBaad8",
        "outputId": "f9ed9715-dd97-4fc5-b014-ba11e9484f87"
      },
      "source": [
        "dfdoge.groupby('Date')['Market Cap'].sum().plot();"
      ],
      "execution_count": 19,
      "outputs": [
        {
          "output_type": "display_data",
          "data": {
            "image/png": "[encoded data removed]",
            "text/plain": [
              "<Figure size 432x288 with 1 Axes>"
            ]
          },
          "metadata": {
            "needs_background": "light"
          }
        }
      ]
    },
    {
      "cell_type": "code",
      "metadata": {
        "colab": {
          "base_uri": "https://localhost:8080/",
          "height": 281
        },
        "id": "u8Whs8AJE9MW",
        "outputId": "948f7740-6ea9-4fde-90c6-81e5eb716c75"
      },
      "source": [
        "btc = dfbtc.groupby('Date')['Market Cap'].sum()\n",
        "doge = dfdoge.groupby('Date')['Market Cap'].sum()\n",
        "\n",
        "fig = plt.figure()\n",
        "ax = fig.add_subplot()\n",
        "ax.plot(btc, color='tab:blue', label='BTC')\n",
        "ax.plot(doge, color='tab:orange', label='Dogecoin')\n",
        "\n",
        "plt.title('Market Cap BTC X Dogecoin')\n",
        "plt.ylabel('Trilhões de dólares')\n",
        "plt.legend();"
      ],
      "execution_count": 20,
      "outputs": [
        {
          "output_type": "display_data",
          "data": {
            "image/png": "[encoded data removed]",
            "text/plain": [
              "<Figure size 432x288 with 1 Axes>"
            ]
          },
          "metadata": {
            "needs_background": "light"
          }
        }
      ]
    }
  ]
}