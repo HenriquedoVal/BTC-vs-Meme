{
  "nbformat": 4,
  "nbformat_minor": 0,
  "metadata": {
    "colab": {
      "name": "BTC vs Meme.ipynb",
      "provenance": [],
      "collapsed_sections": [],
      "mount_file_id": "1HN_UD6VOKwk3GZ5Q9YL3kDvty1K3cEyI",
      "authorship_tag": "ABX9TyOxXL26Q3H7bWf1wMW7+ceB",
      "include_colab_link": true
    },
    "kernelspec": {
      "name": "python3",
      "display_name": "Python 3"
    },
    "language_info": {
      "name": "python"
    }
  },
  "cells": [
    {
      "cell_type": "markdown",
      "metadata": {
        "id": "view-in-github",
        "colab_type": "text"
      },
      "source": [
        "<a href=\"https://colab.research.google.com/github/HenriquedoVal/BTC-vs-Meme/blob/main/BTC_vs_Meme.ipynb\" target=\"_parent\"><img src=\"https://colab.research.google.com/assets/colab-badge.svg\" alt=\"Open In Colab\"/></a>"
      ]
    },
    {
      "cell_type": "markdown",
      "metadata": {
        "id": "LgUwyOa-DPbh"
      },
      "source": [
        "### Sobre:\n",
        "Breve análise de algumas diferenças entre criptomoedas fundamentadas e memecoins (cujo fundamento é a _hype_). Aqui foram usados os dados do Bitcoin e da Dogecoin.\n",
        "Datasets retirados do Kaggle. Em desenvolvimento."
      ]
    },
    {
      "cell_type": "markdown",
      "metadata": {
        "id": "ZuA71U5a9eIO"
      },
      "source": [
        "# Setup"
      ]
    },
    {
      "cell_type": "code",
      "metadata": {
        "colab": {
          "base_uri": "https://localhost:8080/"
        },
        "id": "J1QwwlnvTP0h",
        "outputId": "36f0494f-4339-4586-dcf3-515167822209"
      },
      "source": [
        "!pip install pandera #Sintaxe para acessar o terminal no Colab"
      ],
      "execution_count": 21,
      "outputs": [
        {
          "output_type": "stream",
          "name": "stdout",
          "text": [
            "Requirement already satisfied: pandera in /usr/local/lib/python3.7/dist-packages (0.7.2)\n",
            "Requirement already satisfied: wrapt in /usr/local/lib/python3.7/dist-packages (from pandera) (1.13.3)\n",
            "Requirement already satisfied: packaging>=20.0 in /usr/local/lib/python3.7/dist-packages (from pandera) (21.2)\n",
            "Requirement already satisfied: pyarrow in /usr/local/lib/python3.7/dist-packages (from pandera) (3.0.0)\n",
            "Requirement already satisfied: typing-inspect>=0.6.0 in /usr/local/lib/python3.7/dist-packages (from pandera) (0.7.1)\n",
            "Requirement already satisfied: typing-extensions>=3.7.4.3 in /usr/local/lib/python3.7/dist-packages (from pandera) (3.10.0.2)\n",
            "Requirement already satisfied: numpy>=1.9.0 in /usr/local/lib/python3.7/dist-packages (from pandera) (1.19.5)\n",
            "Requirement already satisfied: pandas>=1.0 in /usr/local/lib/python3.7/dist-packages (from pandera) (1.1.5)\n",
            "Requirement already satisfied: pyparsing<3,>=2.0.2 in /usr/local/lib/python3.7/dist-packages (from packaging>=20.0->pandera) (2.4.7)\n",
            "Requirement already satisfied: python-dateutil>=2.7.3 in /usr/local/lib/python3.7/dist-packages (from pandas>=1.0->pandera) (2.8.2)\n",
            "Requirement already satisfied: pytz>=2017.2 in /usr/local/lib/python3.7/dist-packages (from pandas>=1.0->pandera) (2018.9)\n",
            "Requirement already satisfied: six>=1.5 in /usr/local/lib/python3.7/dist-packages (from python-dateutil>=2.7.3->pandas>=1.0->pandera) (1.15.0)\n",
            "Requirement already satisfied: mypy-extensions>=0.3.0 in /usr/local/lib/python3.7/dist-packages (from typing-inspect>=0.6.0->pandera) (0.4.3)\n"
          ]
        }
      ]
    },
    {
      "cell_type": "code",
      "metadata": {
        "id": "Sh0Ne894R-mI"
      },
      "source": [
        "import pandas as pd\n",
        "import pandera as pa\n",
        "import matplotlib.pyplot as plt"
      ],
      "execution_count": 22,
      "outputs": []
    },
    {
      "cell_type": "code",
      "metadata": {
        "id": "pR7OI6HExdLt"
      },
      "source": [
        "pd.options.display.float_format = '{:,.2f}'.format #Para formatar a notação científica"
      ],
      "execution_count": 23,
      "outputs": []
    },
    {
      "cell_type": "markdown",
      "metadata": {
        "id": "MtLA1imS9J6y"
      },
      "source": [
        "# Bitcoin"
      ]
    },
    {
      "cell_type": "markdown",
      "metadata": {
        "id": "_Q5ac-JE9mkl"
      },
      "source": [
        "## Extração e validação"
      ]
    },
    {
      "cell_type": "code",
      "metadata": {
        "colab": {
          "base_uri": "https://localhost:8080/",
          "height": 204
        },
        "id": "0lUqBic2TYiF",
        "outputId": "5b8ed057-37f7-4576-e486-c8972b4391e0"
      },
      "source": [
        "dfbtc = pd.read_csv('/content/drive/MyDrive/Datasets/BTC & Meme/Bitcoin.csv', parse_dates=['Date'])\n",
        "dfbtc.sample(5)"
      ],
      "execution_count": 24,
      "outputs": [
        {
          "output_type": "execute_result",
          "data": {
            "text/html": [
              "<div>\n",
              "<style scoped>\n",
              "    .dataframe tbody tr th:only-of-type {\n",
              "        vertical-align: middle;\n",
              "    }\n",
              "\n",
              "    .dataframe tbody tr th {\n",
              "        vertical-align: top;\n",
              "    }\n",
              "\n",
              "    .dataframe thead th {\n",
              "        text-align: right;\n",
              "    }\n",
              "</style>\n",
              "<table border=\"1\" class=\"dataframe\">\n",
              "  <thead>\n",
              "    <tr style=\"text-align: right;\">\n",
              "      <th></th>\n",
              "      <th>Date</th>\n",
              "      <th>Open</th>\n",
              "      <th>High</th>\n",
              "      <th>Low</th>\n",
              "      <th>Close</th>\n",
              "      <th>Volume</th>\n",
              "      <th>Market Cap</th>\n",
              "    </tr>\n",
              "  </thead>\n",
              "  <tbody>\n",
              "    <tr>\n",
              "      <th>2256</th>\n",
              "      <td>2015-04-24</td>\n",
              "      <td>235.97</td>\n",
              "      <td>236.30</td>\n",
              "      <td>229.93</td>\n",
              "      <td>231.27</td>\n",
              "      <td>21,448,700.00</td>\n",
              "      <td>3,258,311,725.20</td>\n",
              "    </tr>\n",
              "    <tr>\n",
              "      <th>1043</th>\n",
              "      <td>2018-08-19</td>\n",
              "      <td>6,422.57</td>\n",
              "      <td>6,537.98</td>\n",
              "      <td>6,361.55</td>\n",
              "      <td>6,506.07</td>\n",
              "      <td>3,311,170,000.00</td>\n",
              "      <td>112,031,838,393.00</td>\n",
              "    </tr>\n",
              "    <tr>\n",
              "      <th>727</th>\n",
              "      <td>2019-01-07</td>\n",
              "      <td>10,796.93</td>\n",
              "      <td>11,206.44</td>\n",
              "      <td>10,089.31</td>\n",
              "      <td>10,583.13</td>\n",
              "      <td>29,378,589,324.45</td>\n",
              "      <td>188,297,637,573.83</td>\n",
              "    </tr>\n",
              "    <tr>\n",
              "      <th>607</th>\n",
              "      <td>2019-10-29</td>\n",
              "      <td>9,248.44</td>\n",
              "      <td>9,516.18</td>\n",
              "      <td>9,232.65</td>\n",
              "      <td>9,427.69</td>\n",
              "      <td>28,426,779,937.41</td>\n",
              "      <td>169,883,866,262.33</td>\n",
              "    </tr>\n",
              "    <tr>\n",
              "      <th>2285</th>\n",
              "      <td>2015-03-26</td>\n",
              "      <td>246.28</td>\n",
              "      <td>254.35</td>\n",
              "      <td>244.90</td>\n",
              "      <td>248.53</td>\n",
              "      <td>25,730,000.00</td>\n",
              "      <td>3,475,701,380.10</td>\n",
              "    </tr>\n",
              "  </tbody>\n",
              "</table>\n",
              "</div>"
            ],
            "text/plain": [
              "           Date      Open  ...            Volume         Market Cap\n",
              "2256 2015-04-24    235.97  ...     21,448,700.00   3,258,311,725.20\n",
              "1043 2018-08-19  6,422.57  ...  3,311,170,000.00 112,031,838,393.00\n",
              "727  2019-01-07 10,796.93  ... 29,378,589,324.45 188,297,637,573.83\n",
              "607  2019-10-29  9,248.44  ... 28,426,779,937.41 169,883,866,262.33\n",
              "2285 2015-03-26    246.28  ...     25,730,000.00   3,475,701,380.10\n",
              "\n",
              "[5 rows x 7 columns]"
            ]
          },
          "metadata": {},
          "execution_count": 24
        }
      ]
    },
    {
      "cell_type": "code",
      "metadata": {
        "colab": {
          "base_uri": "https://localhost:8080/"
        },
        "id": "qbTooufiVLQ3",
        "outputId": "ebaeefe8-a60f-4d61-9ce5-7aff70201e48"
      },
      "source": [
        "dfbtc.dtypes"
      ],
      "execution_count": 25,
      "outputs": [
        {
          "output_type": "execute_result",
          "data": {
            "text/plain": [
              "Date          datetime64[ns]\n",
              "Open                 float64\n",
              "High                 float64\n",
              "Low                  float64\n",
              "Close                float64\n",
              "Volume               float64\n",
              "Market Cap           float64\n",
              "dtype: object"
            ]
          },
          "metadata": {},
          "execution_count": 25
        }
      ]
    },
    {
      "cell_type": "code",
      "metadata": {
        "colab": {
          "base_uri": "https://localhost:8080/"
        },
        "id": "x9eE_iEEV9S3",
        "outputId": "99281858-0dd0-4f57-aef5-feeb4f78b96f"
      },
      "source": [
        "dfbtc.isnull().sum()"
      ],
      "execution_count": 26,
      "outputs": [
        {
          "output_type": "execute_result",
          "data": {
            "text/plain": [
              "Date          0\n",
              "Open          0\n",
              "High          0\n",
              "Low           0\n",
              "Close         0\n",
              "Volume        0\n",
              "Market Cap    0\n",
              "dtype: int64"
            ]
          },
          "metadata": {},
          "execution_count": 26
        }
      ]
    },
    {
      "cell_type": "code",
      "metadata": {
        "colab": {
          "base_uri": "https://localhost:8080/",
          "height": 204
        },
        "id": "TSaOUZdE-dyn",
        "outputId": "093e9242-fd17-4894-f9b0-40100adb54b5"
      },
      "source": [
        "dfbtc['Drawdown'] = dfbtc['High'] - dfbtc['Low'] #Drawdown é uma forma de medir a volatilidade, neste caso, diária\n",
        "dfbtc.sample(5)"
      ],
      "execution_count": 27,
      "outputs": [
        {
          "output_type": "execute_result",
          "data": {
            "text/html": [
              "<div>\n",
              "<style scoped>\n",
              "    .dataframe tbody tr th:only-of-type {\n",
              "        vertical-align: middle;\n",
              "    }\n",
              "\n",
              "    .dataframe tbody tr th {\n",
              "        vertical-align: top;\n",
              "    }\n",
              "\n",
              "    .dataframe thead th {\n",
              "        text-align: right;\n",
              "    }\n",
              "</style>\n",
              "<table border=\"1\" class=\"dataframe\">\n",
              "  <thead>\n",
              "    <tr style=\"text-align: right;\">\n",
              "      <th></th>\n",
              "      <th>Date</th>\n",
              "      <th>Open</th>\n",
              "      <th>High</th>\n",
              "      <th>Low</th>\n",
              "      <th>Close</th>\n",
              "      <th>Volume</th>\n",
              "      <th>Market Cap</th>\n",
              "      <th>Drawdown</th>\n",
              "    </tr>\n",
              "  </thead>\n",
              "  <tbody>\n",
              "    <tr>\n",
              "      <th>1521</th>\n",
              "      <td>2017-04-28</td>\n",
              "      <td>1,317.74</td>\n",
              "      <td>1,331.28</td>\n",
              "      <td>1,292.37</td>\n",
              "      <td>1,316.48</td>\n",
              "      <td>527,488,992.00</td>\n",
              "      <td>21,457,669,552.00</td>\n",
              "      <td>38.91</td>\n",
              "    </tr>\n",
              "    <tr>\n",
              "      <th>21</th>\n",
              "      <td>2021-06-06</td>\n",
              "      <td>35,538.61</td>\n",
              "      <td>36,436.42</td>\n",
              "      <td>35,304.58</td>\n",
              "      <td>35,862.38</td>\n",
              "      <td>28,913,440,584.92</td>\n",
              "      <td>671,652,557,855.14</td>\n",
              "      <td>1,131.84</td>\n",
              "    </tr>\n",
              "    <tr>\n",
              "      <th>912</th>\n",
              "      <td>2018-12-28</td>\n",
              "      <td>3,653.13</td>\n",
              "      <td>3,956.14</td>\n",
              "      <td>3,642.63</td>\n",
              "      <td>3,923.92</td>\n",
              "      <td>5,631,554,348.36</td>\n",
              "      <td>68,471,837,968.72</td>\n",
              "      <td>313.50</td>\n",
              "    </tr>\n",
              "    <tr>\n",
              "      <th>2065</th>\n",
              "      <td>2015-01-11</td>\n",
              "      <td>315.01</td>\n",
              "      <td>327.47</td>\n",
              "      <td>311.88</td>\n",
              "      <td>325.43</td>\n",
              "      <td>37,001,100.00</td>\n",
              "      <td>4,813,287,205.50</td>\n",
              "      <td>15.59</td>\n",
              "    </tr>\n",
              "    <tr>\n",
              "      <th>2741</th>\n",
              "      <td>2013-12-25</td>\n",
              "      <td>666.31</td>\n",
              "      <td>682.70</td>\n",
              "      <td>649.48</td>\n",
              "      <td>682.21</td>\n",
              "      <td>0.00</td>\n",
              "      <td>8,305,173,374.25</td>\n",
              "      <td>33.22</td>\n",
              "    </tr>\n",
              "  </tbody>\n",
              "</table>\n",
              "</div>"
            ],
            "text/plain": [
              "           Date      Open  ...         Market Cap  Drawdown\n",
              "1521 2017-04-28  1,317.74  ...  21,457,669,552.00     38.91\n",
              "21   2021-06-06 35,538.61  ... 671,652,557,855.14  1,131.84\n",
              "912  2018-12-28  3,653.13  ...  68,471,837,968.72    313.50\n",
              "2065 2015-01-11    315.01  ...   4,813,287,205.50     15.59\n",
              "2741 2013-12-25    666.31  ...   8,305,173,374.25     33.22\n",
              "\n",
              "[5 rows x 8 columns]"
            ]
          },
          "metadata": {},
          "execution_count": 27
        }
      ]
    },
    {
      "cell_type": "code",
      "metadata": {
        "id": "-gbk4Lo_-L0s"
      },
      "source": [
        "#Validação dos dados - Perfumaria, uma vez que a fonte de dados é bem consistente\n",
        "schema = pa.DataFrameSchema(\n",
        "    columns = {\n",
        "        'Date': pa.Column(pa.DateTime),\n",
        "        'Open': pa.Column(pa.Float),\n",
        "        'High': pa.Column(pa.Float),\n",
        "        'Low': pa.Column(pa.Float),\n",
        "        'Close': pa.Column(pa.Float),\n",
        "        'Volume': pa.Column(pa.Float),\n",
        "        'Market Cap': pa.Column(pa.Float),\n",
        "        'Drawdown': pa.Column(pa.Float)\n",
        "})"
      ],
      "execution_count": 28,
      "outputs": []
    },
    {
      "cell_type": "code",
      "metadata": {
        "colab": {
          "base_uri": "https://localhost:8080/",
          "height": 419
        },
        "id": "VO9rhl0s_zbe",
        "outputId": "799f3b8e-bbec-4734-ca93-7e4f17213171"
      },
      "source": [
        "schema.validate(dfbtc)"
      ],
      "execution_count": 29,
      "outputs": [
        {
          "output_type": "execute_result",
          "data": {
            "text/html": [
              "<div>\n",
              "<style scoped>\n",
              "    .dataframe tbody tr th:only-of-type {\n",
              "        vertical-align: middle;\n",
              "    }\n",
              "\n",
              "    .dataframe tbody tr th {\n",
              "        vertical-align: top;\n",
              "    }\n",
              "\n",
              "    .dataframe thead th {\n",
              "        text-align: right;\n",
              "    }\n",
              "</style>\n",
              "<table border=\"1\" class=\"dataframe\">\n",
              "  <thead>\n",
              "    <tr style=\"text-align: right;\">\n",
              "      <th></th>\n",
              "      <th>Date</th>\n",
              "      <th>Open</th>\n",
              "      <th>High</th>\n",
              "      <th>Low</th>\n",
              "      <th>Close</th>\n",
              "      <th>Volume</th>\n",
              "      <th>Market Cap</th>\n",
              "      <th>Drawdown</th>\n",
              "    </tr>\n",
              "  </thead>\n",
              "  <tbody>\n",
              "    <tr>\n",
              "      <th>0</th>\n",
              "      <td>2021-06-27</td>\n",
              "      <td>32,287.52</td>\n",
              "      <td>34,656.13</td>\n",
              "      <td>32,071.76</td>\n",
              "      <td>34,649.64</td>\n",
              "      <td>35,511,640,893.97</td>\n",
              "      <td>649,461,677,014.12</td>\n",
              "      <td>2,584.37</td>\n",
              "    </tr>\n",
              "    <tr>\n",
              "      <th>1</th>\n",
              "      <td>2021-06-26</td>\n",
              "      <td>31,594.66</td>\n",
              "      <td>32,637.59</td>\n",
              "      <td>30,184.50</td>\n",
              "      <td>32,186.28</td>\n",
              "      <td>38,585,385,521.38</td>\n",
              "      <td>603,276,028,308.72</td>\n",
              "      <td>2,453.09</td>\n",
              "    </tr>\n",
              "    <tr>\n",
              "      <th>2</th>\n",
              "      <td>2021-06-25</td>\n",
              "      <td>34,659.10</td>\n",
              "      <td>35,487.25</td>\n",
              "      <td>31,350.88</td>\n",
              "      <td>31,637.78</td>\n",
              "      <td>40,230,904,226.00</td>\n",
              "      <td>592,978,211,189.03</td>\n",
              "      <td>4,136.36</td>\n",
              "    </tr>\n",
              "    <tr>\n",
              "      <th>3</th>\n",
              "      <td>2021-06-24</td>\n",
              "      <td>33,682.80</td>\n",
              "      <td>35,228.85</td>\n",
              "      <td>32,385.21</td>\n",
              "      <td>34,662.44</td>\n",
              "      <td>33,123,368,116.18</td>\n",
              "      <td>649,643,997,441.37</td>\n",
              "      <td>2,843.64</td>\n",
              "    </tr>\n",
              "    <tr>\n",
              "      <th>4</th>\n",
              "      <td>2021-06-23</td>\n",
              "      <td>32,515.71</td>\n",
              "      <td>34,753.41</td>\n",
              "      <td>31,772.63</td>\n",
              "      <td>33,723.03</td>\n",
              "      <td>46,317,108,924.69</td>\n",
              "      <td>632,011,278,436.38</td>\n",
              "      <td>2,980.78</td>\n",
              "    </tr>\n",
              "    <tr>\n",
              "      <th>...</th>\n",
              "      <td>...</td>\n",
              "      <td>...</td>\n",
              "      <td>...</td>\n",
              "      <td>...</td>\n",
              "      <td>...</td>\n",
              "      <td>...</td>\n",
              "      <td>...</td>\n",
              "      <td>...</td>\n",
              "    </tr>\n",
              "    <tr>\n",
              "      <th>2978</th>\n",
              "      <td>2013-02-05</td>\n",
              "      <td>116.38</td>\n",
              "      <td>125.60</td>\n",
              "      <td>92.28</td>\n",
              "      <td>105.21</td>\n",
              "      <td>0.00</td>\n",
              "      <td>1,168,517,495.25</td>\n",
              "      <td>33.32</td>\n",
              "    </tr>\n",
              "    <tr>\n",
              "      <th>2979</th>\n",
              "      <td>2013-01-05</td>\n",
              "      <td>139.00</td>\n",
              "      <td>139.89</td>\n",
              "      <td>107.72</td>\n",
              "      <td>116.99</td>\n",
              "      <td>0.00</td>\n",
              "      <td>1,298,954,593.75</td>\n",
              "      <td>32.17</td>\n",
              "    </tr>\n",
              "    <tr>\n",
              "      <th>2980</th>\n",
              "      <td>2013-04-30</td>\n",
              "      <td>144.00</td>\n",
              "      <td>146.93</td>\n",
              "      <td>134.05</td>\n",
              "      <td>139.00</td>\n",
              "      <td>0.00</td>\n",
              "      <td>1,542,813,125.00</td>\n",
              "      <td>12.88</td>\n",
              "    </tr>\n",
              "    <tr>\n",
              "      <th>2981</th>\n",
              "      <td>2013-04-29</td>\n",
              "      <td>134.44</td>\n",
              "      <td>147.49</td>\n",
              "      <td>134.00</td>\n",
              "      <td>144.54</td>\n",
              "      <td>0.00</td>\n",
              "      <td>1,603,768,864.50</td>\n",
              "      <td>13.49</td>\n",
              "    </tr>\n",
              "    <tr>\n",
              "      <th>2982</th>\n",
              "      <td>2013-04-28</td>\n",
              "      <td>135.30</td>\n",
              "      <td>135.98</td>\n",
              "      <td>132.10</td>\n",
              "      <td>134.21</td>\n",
              "      <td>0.00</td>\n",
              "      <td>1,488,566,728.25</td>\n",
              "      <td>3.88</td>\n",
              "    </tr>\n",
              "  </tbody>\n",
              "</table>\n",
              "<p>2983 rows × 8 columns</p>\n",
              "</div>"
            ],
            "text/plain": [
              "           Date      Open  ...         Market Cap  Drawdown\n",
              "0    2021-06-27 32,287.52  ... 649,461,677,014.12  2,584.37\n",
              "1    2021-06-26 31,594.66  ... 603,276,028,308.72  2,453.09\n",
              "2    2021-06-25 34,659.10  ... 592,978,211,189.03  4,136.36\n",
              "3    2021-06-24 33,682.80  ... 649,643,997,441.37  2,843.64\n",
              "4    2021-06-23 32,515.71  ... 632,011,278,436.38  2,980.78\n",
              "...         ...       ...  ...                ...       ...\n",
              "2978 2013-02-05    116.38  ...   1,168,517,495.25     33.32\n",
              "2979 2013-01-05    139.00  ...   1,298,954,593.75     32.17\n",
              "2980 2013-04-30    144.00  ...   1,542,813,125.00     12.88\n",
              "2981 2013-04-29    134.44  ...   1,603,768,864.50     13.49\n",
              "2982 2013-04-28    135.30  ...   1,488,566,728.25      3.88\n",
              "\n",
              "[2983 rows x 8 columns]"
            ]
          },
          "metadata": {},
          "execution_count": 29
        }
      ]
    },
    {
      "cell_type": "markdown",
      "metadata": {
        "id": "1YVxeK3o9S9d"
      },
      "source": [
        "# Dogecoin"
      ]
    },
    {
      "cell_type": "markdown",
      "metadata": {
        "id": "RDFAFLfo9uSo"
      },
      "source": [
        "## Extração e validação"
      ]
    },
    {
      "cell_type": "code",
      "metadata": {
        "colab": {
          "base_uri": "https://localhost:8080/",
          "height": 419
        },
        "id": "bsdnGE-ZW_Kv",
        "outputId": "3ccb805a-1617-4e6c-e9ef-5f5339f9a696"
      },
      "source": [
        "dfdoge = pd.read_csv('/content/drive/MyDrive/Datasets/BTC & Meme/Dogecoin.csv', parse_dates=['Date'])\n",
        "dfdoge"
      ],
      "execution_count": 30,
      "outputs": [
        {
          "output_type": "execute_result",
          "data": {
            "text/html": [
              "<div>\n",
              "<style scoped>\n",
              "    .dataframe tbody tr th:only-of-type {\n",
              "        vertical-align: middle;\n",
              "    }\n",
              "\n",
              "    .dataframe tbody tr th {\n",
              "        vertical-align: top;\n",
              "    }\n",
              "\n",
              "    .dataframe thead th {\n",
              "        text-align: right;\n",
              "    }\n",
              "</style>\n",
              "<table border=\"1\" class=\"dataframe\">\n",
              "  <thead>\n",
              "    <tr style=\"text-align: right;\">\n",
              "      <th></th>\n",
              "      <th>Date</th>\n",
              "      <th>Open</th>\n",
              "      <th>High</th>\n",
              "      <th>Low</th>\n",
              "      <th>Close</th>\n",
              "      <th>Volume</th>\n",
              "      <th>Market Cap</th>\n",
              "    </tr>\n",
              "  </thead>\n",
              "  <tbody>\n",
              "    <tr>\n",
              "      <th>0</th>\n",
              "      <td>2021-06-27</td>\n",
              "      <td>0.25</td>\n",
              "      <td>0.27</td>\n",
              "      <td>0.24</td>\n",
              "      <td>0.26</td>\n",
              "      <td>2,167,521,670.48</td>\n",
              "      <td>34,431,598,885.98</td>\n",
              "    </tr>\n",
              "    <tr>\n",
              "      <th>1</th>\n",
              "      <td>2021-06-26</td>\n",
              "      <td>0.24</td>\n",
              "      <td>0.26</td>\n",
              "      <td>0.23</td>\n",
              "      <td>0.24</td>\n",
              "      <td>2,649,457,301.97</td>\n",
              "      <td>31,867,533,718.63</td>\n",
              "    </tr>\n",
              "    <tr>\n",
              "      <th>2</th>\n",
              "      <td>2021-06-25</td>\n",
              "      <td>0.26</td>\n",
              "      <td>0.29</td>\n",
              "      <td>0.23</td>\n",
              "      <td>0.24</td>\n",
              "      <td>5,542,163,262.31</td>\n",
              "      <td>31,131,171,916.24</td>\n",
              "    </tr>\n",
              "    <tr>\n",
              "      <th>3</th>\n",
              "      <td>2021-06-24</td>\n",
              "      <td>0.23</td>\n",
              "      <td>0.27</td>\n",
              "      <td>0.22</td>\n",
              "      <td>0.26</td>\n",
              "      <td>3,844,648,059.04</td>\n",
              "      <td>34,205,589,762.94</td>\n",
              "    </tr>\n",
              "    <tr>\n",
              "      <th>4</th>\n",
              "      <td>2021-06-23</td>\n",
              "      <td>0.19</td>\n",
              "      <td>0.25</td>\n",
              "      <td>0.18</td>\n",
              "      <td>0.23</td>\n",
              "      <td>5,098,674,891.27</td>\n",
              "      <td>30,217,348,680.34</td>\n",
              "    </tr>\n",
              "    <tr>\n",
              "      <th>...</th>\n",
              "      <td>...</td>\n",
              "      <td>...</td>\n",
              "      <td>...</td>\n",
              "      <td>...</td>\n",
              "      <td>...</td>\n",
              "      <td>...</td>\n",
              "      <td>...</td>\n",
              "    </tr>\n",
              "    <tr>\n",
              "      <th>2747</th>\n",
              "      <td>2013-12-19</td>\n",
              "      <td>0.00</td>\n",
              "      <td>0.00</td>\n",
              "      <td>0.00</td>\n",
              "      <td>0.00</td>\n",
              "      <td>0.00</td>\n",
              "      <td>11,150,339.22</td>\n",
              "    </tr>\n",
              "    <tr>\n",
              "      <th>2748</th>\n",
              "      <td>2013-12-18</td>\n",
              "      <td>0.00</td>\n",
              "      <td>0.00</td>\n",
              "      <td>0.00</td>\n",
              "      <td>0.00</td>\n",
              "      <td>0.00</td>\n",
              "      <td>3,188,943.21</td>\n",
              "    </tr>\n",
              "    <tr>\n",
              "      <th>2749</th>\n",
              "      <td>2013-12-17</td>\n",
              "      <td>0.00</td>\n",
              "      <td>0.00</td>\n",
              "      <td>0.00</td>\n",
              "      <td>0.00</td>\n",
              "      <td>0.00</td>\n",
              "      <td>2,169,687.98</td>\n",
              "    </tr>\n",
              "    <tr>\n",
              "      <th>2750</th>\n",
              "      <td>2013-12-16</td>\n",
              "      <td>0.00</td>\n",
              "      <td>0.00</td>\n",
              "      <td>0.00</td>\n",
              "      <td>0.00</td>\n",
              "      <td>0.00</td>\n",
              "      <td>1,509,085.16</td>\n",
              "    </tr>\n",
              "    <tr>\n",
              "      <th>2751</th>\n",
              "      <td>2013-12-15</td>\n",
              "      <td>0.00</td>\n",
              "      <td>0.00</td>\n",
              "      <td>0.00</td>\n",
              "      <td>0.00</td>\n",
              "      <td>0.00</td>\n",
              "      <td>1,960,300.32</td>\n",
              "    </tr>\n",
              "  </tbody>\n",
              "</table>\n",
              "<p>2752 rows × 7 columns</p>\n",
              "</div>"
            ],
            "text/plain": [
              "           Date  Open  High  Low  Close           Volume        Market Cap\n",
              "0    2021-06-27  0.25  0.27 0.24   0.26 2,167,521,670.48 34,431,598,885.98\n",
              "1    2021-06-26  0.24  0.26 0.23   0.24 2,649,457,301.97 31,867,533,718.63\n",
              "2    2021-06-25  0.26  0.29 0.23   0.24 5,542,163,262.31 31,131,171,916.24\n",
              "3    2021-06-24  0.23  0.27 0.22   0.26 3,844,648,059.04 34,205,589,762.94\n",
              "4    2021-06-23  0.19  0.25 0.18   0.23 5,098,674,891.27 30,217,348,680.34\n",
              "...         ...   ...   ...  ...    ...              ...               ...\n",
              "2747 2013-12-19  0.00  0.00 0.00   0.00             0.00     11,150,339.22\n",
              "2748 2013-12-18  0.00  0.00 0.00   0.00             0.00      3,188,943.21\n",
              "2749 2013-12-17  0.00  0.00 0.00   0.00             0.00      2,169,687.98\n",
              "2750 2013-12-16  0.00  0.00 0.00   0.00             0.00      1,509,085.16\n",
              "2751 2013-12-15  0.00  0.00 0.00   0.00             0.00      1,960,300.32\n",
              "\n",
              "[2752 rows x 7 columns]"
            ]
          },
          "metadata": {},
          "execution_count": 30
        }
      ]
    },
    {
      "cell_type": "code",
      "metadata": {
        "colab": {
          "base_uri": "https://localhost:8080/"
        },
        "id": "nO2KrRAGXS17",
        "outputId": "f32f863b-b30a-4fd4-b0e4-2cf74676a925"
      },
      "source": [
        "dfdoge.dtypes"
      ],
      "execution_count": 31,
      "outputs": [
        {
          "output_type": "execute_result",
          "data": {
            "text/plain": [
              "Date          datetime64[ns]\n",
              "Open                 float64\n",
              "High                 float64\n",
              "Low                  float64\n",
              "Close                float64\n",
              "Volume               float64\n",
              "Market Cap           float64\n",
              "dtype: object"
            ]
          },
          "metadata": {},
          "execution_count": 31
        }
      ]
    },
    {
      "cell_type": "code",
      "metadata": {
        "colab": {
          "base_uri": "https://localhost:8080/"
        },
        "id": "FRh0SIeOXX8X",
        "outputId": "1770b0f8-35a2-415f-b1d5-50f11354147d"
      },
      "source": [
        "dfdoge.isnull().sum()"
      ],
      "execution_count": 32,
      "outputs": [
        {
          "output_type": "execute_result",
          "data": {
            "text/plain": [
              "Date          0\n",
              "Open          0\n",
              "High          0\n",
              "Low           0\n",
              "Close         0\n",
              "Volume        0\n",
              "Market Cap    0\n",
              "dtype: int64"
            ]
          },
          "metadata": {},
          "execution_count": 32
        }
      ]
    },
    {
      "cell_type": "code",
      "metadata": {
        "colab": {
          "base_uri": "https://localhost:8080/",
          "height": 204
        },
        "id": "ew31HxNRxv0W",
        "outputId": "61c7fa3e-e0b3-4280-d62b-2ab0002fe0b8"
      },
      "source": [
        "dfdoge['Drawdown'] = dfdoge['High'] - dfdoge['Low']\n",
        "dfdoge.sample(5)"
      ],
      "execution_count": 33,
      "outputs": [
        {
          "output_type": "execute_result",
          "data": {
            "text/html": [
              "<div>\n",
              "<style scoped>\n",
              "    .dataframe tbody tr th:only-of-type {\n",
              "        vertical-align: middle;\n",
              "    }\n",
              "\n",
              "    .dataframe tbody tr th {\n",
              "        vertical-align: top;\n",
              "    }\n",
              "\n",
              "    .dataframe thead th {\n",
              "        text-align: right;\n",
              "    }\n",
              "</style>\n",
              "<table border=\"1\" class=\"dataframe\">\n",
              "  <thead>\n",
              "    <tr style=\"text-align: right;\">\n",
              "      <th></th>\n",
              "      <th>Date</th>\n",
              "      <th>Open</th>\n",
              "      <th>High</th>\n",
              "      <th>Low</th>\n",
              "      <th>Close</th>\n",
              "      <th>Volume</th>\n",
              "      <th>Market Cap</th>\n",
              "      <th>Drawdown</th>\n",
              "    </tr>\n",
              "  </thead>\n",
              "  <tbody>\n",
              "    <tr>\n",
              "      <th>2022</th>\n",
              "      <td>2015-12-14</td>\n",
              "      <td>0.00</td>\n",
              "      <td>0.00</td>\n",
              "      <td>0.00</td>\n",
              "      <td>0.00</td>\n",
              "      <td>147,375.00</td>\n",
              "      <td>14,829,491.70</td>\n",
              "      <td>0.00</td>\n",
              "    </tr>\n",
              "    <tr>\n",
              "      <th>630</th>\n",
              "      <td>2019-06-10</td>\n",
              "      <td>0.00</td>\n",
              "      <td>0.00</td>\n",
              "      <td>0.00</td>\n",
              "      <td>0.00</td>\n",
              "      <td>40,093,923.41</td>\n",
              "      <td>285,110,218.07</td>\n",
              "      <td>0.00</td>\n",
              "    </tr>\n",
              "    <tr>\n",
              "      <th>2654</th>\n",
              "      <td>2014-03-22</td>\n",
              "      <td>0.00</td>\n",
              "      <td>0.00</td>\n",
              "      <td>0.00</td>\n",
              "      <td>0.00</td>\n",
              "      <td>830,262.00</td>\n",
              "      <td>43,119,659.35</td>\n",
              "      <td>0.00</td>\n",
              "    </tr>\n",
              "    <tr>\n",
              "      <th>822</th>\n",
              "      <td>2019-03-28</td>\n",
              "      <td>0.00</td>\n",
              "      <td>0.00</td>\n",
              "      <td>0.00</td>\n",
              "      <td>0.00</td>\n",
              "      <td>20,558,761.42</td>\n",
              "      <td>246,454,838.41</td>\n",
              "      <td>0.00</td>\n",
              "    </tr>\n",
              "    <tr>\n",
              "      <th>1672</th>\n",
              "      <td>2016-11-28</td>\n",
              "      <td>0.00</td>\n",
              "      <td>0.00</td>\n",
              "      <td>0.00</td>\n",
              "      <td>0.00</td>\n",
              "      <td>77,058.20</td>\n",
              "      <td>23,318,708.09</td>\n",
              "      <td>0.00</td>\n",
              "    </tr>\n",
              "  </tbody>\n",
              "</table>\n",
              "</div>"
            ],
            "text/plain": [
              "           Date  Open  High  Low  Close        Volume     Market Cap  Drawdown\n",
              "2022 2015-12-14  0.00  0.00 0.00   0.00    147,375.00  14,829,491.70      0.00\n",
              "630  2019-06-10  0.00  0.00 0.00   0.00 40,093,923.41 285,110,218.07      0.00\n",
              "2654 2014-03-22  0.00  0.00 0.00   0.00    830,262.00  43,119,659.35      0.00\n",
              "822  2019-03-28  0.00  0.00 0.00   0.00 20,558,761.42 246,454,838.41      0.00\n",
              "1672 2016-11-28  0.00  0.00 0.00   0.00     77,058.20  23,318,708.09      0.00"
            ]
          },
          "metadata": {},
          "execution_count": 33
        }
      ]
    },
    {
      "cell_type": "code",
      "metadata": {
        "colab": {
          "base_uri": "https://localhost:8080/",
          "height": 419
        },
        "id": "pOf7sC8OCNC6",
        "outputId": "2ce2b8e9-fac3-4f7e-85e9-0822876ef692"
      },
      "source": [
        "schema.validate(dfdoge) #Schema já está definido"
      ],
      "execution_count": 34,
      "outputs": [
        {
          "output_type": "execute_result",
          "data": {
            "text/html": [
              "<div>\n",
              "<style scoped>\n",
              "    .dataframe tbody tr th:only-of-type {\n",
              "        vertical-align: middle;\n",
              "    }\n",
              "\n",
              "    .dataframe tbody tr th {\n",
              "        vertical-align: top;\n",
              "    }\n",
              "\n",
              "    .dataframe thead th {\n",
              "        text-align: right;\n",
              "    }\n",
              "</style>\n",
              "<table border=\"1\" class=\"dataframe\">\n",
              "  <thead>\n",
              "    <tr style=\"text-align: right;\">\n",
              "      <th></th>\n",
              "      <th>Date</th>\n",
              "      <th>Open</th>\n",
              "      <th>High</th>\n",
              "      <th>Low</th>\n",
              "      <th>Close</th>\n",
              "      <th>Volume</th>\n",
              "      <th>Market Cap</th>\n",
              "      <th>Drawdown</th>\n",
              "    </tr>\n",
              "  </thead>\n",
              "  <tbody>\n",
              "    <tr>\n",
              "      <th>0</th>\n",
              "      <td>2021-06-27</td>\n",
              "      <td>0.25</td>\n",
              "      <td>0.27</td>\n",
              "      <td>0.24</td>\n",
              "      <td>0.26</td>\n",
              "      <td>2,167,521,670.48</td>\n",
              "      <td>34,431,598,885.98</td>\n",
              "      <td>0.03</td>\n",
              "    </tr>\n",
              "    <tr>\n",
              "      <th>1</th>\n",
              "      <td>2021-06-26</td>\n",
              "      <td>0.24</td>\n",
              "      <td>0.26</td>\n",
              "      <td>0.23</td>\n",
              "      <td>0.24</td>\n",
              "      <td>2,649,457,301.97</td>\n",
              "      <td>31,867,533,718.63</td>\n",
              "      <td>0.02</td>\n",
              "    </tr>\n",
              "    <tr>\n",
              "      <th>2</th>\n",
              "      <td>2021-06-25</td>\n",
              "      <td>0.26</td>\n",
              "      <td>0.29</td>\n",
              "      <td>0.23</td>\n",
              "      <td>0.24</td>\n",
              "      <td>5,542,163,262.31</td>\n",
              "      <td>31,131,171,916.24</td>\n",
              "      <td>0.06</td>\n",
              "    </tr>\n",
              "    <tr>\n",
              "      <th>3</th>\n",
              "      <td>2021-06-24</td>\n",
              "      <td>0.23</td>\n",
              "      <td>0.27</td>\n",
              "      <td>0.22</td>\n",
              "      <td>0.26</td>\n",
              "      <td>3,844,648,059.04</td>\n",
              "      <td>34,205,589,762.94</td>\n",
              "      <td>0.05</td>\n",
              "    </tr>\n",
              "    <tr>\n",
              "      <th>4</th>\n",
              "      <td>2021-06-23</td>\n",
              "      <td>0.19</td>\n",
              "      <td>0.25</td>\n",
              "      <td>0.18</td>\n",
              "      <td>0.23</td>\n",
              "      <td>5,098,674,891.27</td>\n",
              "      <td>30,217,348,680.34</td>\n",
              "      <td>0.07</td>\n",
              "    </tr>\n",
              "    <tr>\n",
              "      <th>...</th>\n",
              "      <td>...</td>\n",
              "      <td>...</td>\n",
              "      <td>...</td>\n",
              "      <td>...</td>\n",
              "      <td>...</td>\n",
              "      <td>...</td>\n",
              "      <td>...</td>\n",
              "      <td>...</td>\n",
              "    </tr>\n",
              "    <tr>\n",
              "      <th>2747</th>\n",
              "      <td>2013-12-19</td>\n",
              "      <td>0.00</td>\n",
              "      <td>0.00</td>\n",
              "      <td>0.00</td>\n",
              "      <td>0.00</td>\n",
              "      <td>0.00</td>\n",
              "      <td>11,150,339.22</td>\n",
              "      <td>0.00</td>\n",
              "    </tr>\n",
              "    <tr>\n",
              "      <th>2748</th>\n",
              "      <td>2013-12-18</td>\n",
              "      <td>0.00</td>\n",
              "      <td>0.00</td>\n",
              "      <td>0.00</td>\n",
              "      <td>0.00</td>\n",
              "      <td>0.00</td>\n",
              "      <td>3,188,943.21</td>\n",
              "      <td>0.00</td>\n",
              "    </tr>\n",
              "    <tr>\n",
              "      <th>2749</th>\n",
              "      <td>2013-12-17</td>\n",
              "      <td>0.00</td>\n",
              "      <td>0.00</td>\n",
              "      <td>0.00</td>\n",
              "      <td>0.00</td>\n",
              "      <td>0.00</td>\n",
              "      <td>2,169,687.98</td>\n",
              "      <td>0.00</td>\n",
              "    </tr>\n",
              "    <tr>\n",
              "      <th>2750</th>\n",
              "      <td>2013-12-16</td>\n",
              "      <td>0.00</td>\n",
              "      <td>0.00</td>\n",
              "      <td>0.00</td>\n",
              "      <td>0.00</td>\n",
              "      <td>0.00</td>\n",
              "      <td>1,509,085.16</td>\n",
              "      <td>0.00</td>\n",
              "    </tr>\n",
              "    <tr>\n",
              "      <th>2751</th>\n",
              "      <td>2013-12-15</td>\n",
              "      <td>0.00</td>\n",
              "      <td>0.00</td>\n",
              "      <td>0.00</td>\n",
              "      <td>0.00</td>\n",
              "      <td>0.00</td>\n",
              "      <td>1,960,300.32</td>\n",
              "      <td>0.00</td>\n",
              "    </tr>\n",
              "  </tbody>\n",
              "</table>\n",
              "<p>2752 rows × 8 columns</p>\n",
              "</div>"
            ],
            "text/plain": [
              "           Date  Open  High  ...           Volume        Market Cap  Drawdown\n",
              "0    2021-06-27  0.25  0.27  ... 2,167,521,670.48 34,431,598,885.98      0.03\n",
              "1    2021-06-26  0.24  0.26  ... 2,649,457,301.97 31,867,533,718.63      0.02\n",
              "2    2021-06-25  0.26  0.29  ... 5,542,163,262.31 31,131,171,916.24      0.06\n",
              "3    2021-06-24  0.23  0.27  ... 3,844,648,059.04 34,205,589,762.94      0.05\n",
              "4    2021-06-23  0.19  0.25  ... 5,098,674,891.27 30,217,348,680.34      0.07\n",
              "...         ...   ...   ...  ...              ...               ...       ...\n",
              "2747 2013-12-19  0.00  0.00  ...             0.00     11,150,339.22      0.00\n",
              "2748 2013-12-18  0.00  0.00  ...             0.00      3,188,943.21      0.00\n",
              "2749 2013-12-17  0.00  0.00  ...             0.00      2,169,687.98      0.00\n",
              "2750 2013-12-16  0.00  0.00  ...             0.00      1,509,085.16      0.00\n",
              "2751 2013-12-15  0.00  0.00  ...             0.00      1,960,300.32      0.00\n",
              "\n",
              "[2752 rows x 8 columns]"
            ]
          },
          "metadata": {},
          "execution_count": 34
        }
      ]
    },
    {
      "cell_type": "markdown",
      "metadata": {
        "id": "e2Rk42HF93fb"
      },
      "source": [
        "# Análise exploratória"
      ]
    },
    {
      "cell_type": "code",
      "metadata": {
        "colab": {
          "base_uri": "https://localhost:8080/",
          "height": 80
        },
        "id": "JTF3YE2iLhEt",
        "outputId": "d3cbe8a4-eb46-4c36-b28e-b3cbfc1e9e1c"
      },
      "source": [
        "dfbtc.loc[dfbtc['Market Cap'] == dfbtc['Market Cap'].max()]"
      ],
      "execution_count": 35,
      "outputs": [
        {
          "output_type": "execute_result",
          "data": {
            "text/html": [
              "<div>\n",
              "<style scoped>\n",
              "    .dataframe tbody tr th:only-of-type {\n",
              "        vertical-align: middle;\n",
              "    }\n",
              "\n",
              "    .dataframe tbody tr th {\n",
              "        vertical-align: top;\n",
              "    }\n",
              "\n",
              "    .dataframe thead th {\n",
              "        text-align: right;\n",
              "    }\n",
              "</style>\n",
              "<table border=\"1\" class=\"dataframe\">\n",
              "  <thead>\n",
              "    <tr style=\"text-align: right;\">\n",
              "      <th></th>\n",
              "      <th>Date</th>\n",
              "      <th>Open</th>\n",
              "      <th>High</th>\n",
              "      <th>Low</th>\n",
              "      <th>Close</th>\n",
              "      <th>Volume</th>\n",
              "      <th>Market Cap</th>\n",
              "      <th>Drawdown</th>\n",
              "    </tr>\n",
              "  </thead>\n",
              "  <tbody>\n",
              "    <tr>\n",
              "      <th>75</th>\n",
              "      <td>2021-04-13</td>\n",
              "      <td>59,890.02</td>\n",
              "      <td>63,742.28</td>\n",
              "      <td>59,869.96</td>\n",
              "      <td>63,503.46</td>\n",
              "      <td>69,983,454,361.84</td>\n",
              "      <td>1,186,364,044,140.27</td>\n",
              "      <td>3,872.33</td>\n",
              "    </tr>\n",
              "  </tbody>\n",
              "</table>\n",
              "</div>"
            ],
            "text/plain": [
              "         Date      Open  ...           Market Cap  Drawdown\n",
              "75 2021-04-13 59,890.02  ... 1,186,364,044,140.27  3,872.33\n",
              "\n",
              "[1 rows x 8 columns]"
            ]
          },
          "metadata": {},
          "execution_count": 35
        }
      ]
    },
    {
      "cell_type": "code",
      "metadata": {
        "colab": {
          "base_uri": "https://localhost:8080/",
          "height": 80
        },
        "id": "WWvRHZRoCn97",
        "outputId": "bdabe2b5-d922-4aa6-c710-01f22ef6b306"
      },
      "source": [
        "dfdoge.loc[dfdoge['Market Cap'] == dfdoge['Market Cap'].max()]"
      ],
      "execution_count": 36,
      "outputs": [
        {
          "output_type": "execute_result",
          "data": {
            "text/html": [
              "<div>\n",
              "<style scoped>\n",
              "    .dataframe tbody tr th:only-of-type {\n",
              "        vertical-align: middle;\n",
              "    }\n",
              "\n",
              "    .dataframe tbody tr th {\n",
              "        vertical-align: top;\n",
              "    }\n",
              "\n",
              "    .dataframe thead th {\n",
              "        text-align: right;\n",
              "    }\n",
              "</style>\n",
              "<table border=\"1\" class=\"dataframe\">\n",
              "  <thead>\n",
              "    <tr style=\"text-align: right;\">\n",
              "      <th></th>\n",
              "      <th>Date</th>\n",
              "      <th>Open</th>\n",
              "      <th>High</th>\n",
              "      <th>Low</th>\n",
              "      <th>Close</th>\n",
              "      <th>Volume</th>\n",
              "      <th>Market Cap</th>\n",
              "      <th>Drawdown</th>\n",
              "    </tr>\n",
              "  </thead>\n",
              "  <tbody>\n",
              "    <tr>\n",
              "      <th>51</th>\n",
              "      <td>2021-07-05</td>\n",
              "      <td>0.58</td>\n",
              "      <td>0.73</td>\n",
              "      <td>0.52</td>\n",
              "      <td>0.68</td>\n",
              "      <td>28,615,083,656.92</td>\n",
              "      <td>88,680,824,303.07</td>\n",
              "      <td>0.21</td>\n",
              "    </tr>\n",
              "  </tbody>\n",
              "</table>\n",
              "</div>"
            ],
            "text/plain": [
              "         Date  Open  High  ...            Volume        Market Cap  Drawdown\n",
              "51 2021-07-05  0.58  0.73  ... 28,615,083,656.92 88,680,824,303.07      0.21\n",
              "\n",
              "[1 rows x 8 columns]"
            ]
          },
          "metadata": {},
          "execution_count": 36
        }
      ]
    },
    {
      "cell_type": "code",
      "metadata": {
        "colab": {
          "base_uri": "https://localhost:8080/",
          "height": 271
        },
        "id": "x8ryNZlKX5TY",
        "outputId": "c3861d0b-7c0a-4105-b7a7-62dbf75f3828"
      },
      "source": [
        "dfbtc.groupby('Date')['Market Cap'].sum().plot()\n",
        "plt.title('Evolução da Captação do BTC no tempo')\n",
        "plt.ylabel('TRILHÕES de dólares')\n",
        "plt.xlabel('')\n",
        "plt.legend();"
      ],
      "execution_count": 45,
      "outputs": [
        {
          "output_type": "display_data",
          "data": {
            "image/png": "[encoded data removed]",
            "text/plain": [
              "<Figure size 432x288 with 1 Axes>"
            ]
          },
          "metadata": {
            "needs_background": "light"
          }
        }
      ]
    },
    {
      "cell_type": "code",
      "metadata": {
        "colab": {
          "base_uri": "https://localhost:8080/",
          "height": 271
        },
        "id": "Oym5gNNBaad8",
        "outputId": "da1353ad-f510-4020-e4b6-6a527349ba42"
      },
      "source": [
        "dfdoge.groupby('Date')['Market Cap'].sum().plot(color='tab:orange')\n",
        "plt.title('Evolução da Captação do Dogecoin no tempo')\n",
        "plt.ylabel('BILHÕES de dólares')\n",
        "plt.xlabel('')\n",
        "plt.legend();"
      ],
      "execution_count": 48,
      "outputs": [
        {
          "output_type": "display_data",
          "data": {
            "image/png": "[encoded data removed]",
            "text/plain": [
              "<Figure size 432x288 with 1 Axes>"
            ]
          },
          "metadata": {
            "needs_background": "light"
          }
        }
      ]
    },
    {
      "cell_type": "code",
      "metadata": {
        "colab": {
          "base_uri": "https://localhost:8080/",
          "height": 281
        },
        "id": "u8Whs8AJE9MW",
        "outputId": "4446d161-af53-49a4-b1e4-ada998a99c09"
      },
      "source": [
        "btc = dfbtc.groupby('Date')['Market Cap'].sum()\n",
        "doge = dfdoge.groupby('Date')['Market Cap'].sum()\n",
        "\n",
        "fig = plt.figure()\n",
        "ax = fig.add_subplot()\n",
        "ax.plot(btc, color='tab:blue', label='BTC')\n",
        "ax.plot(doge, color='tab:orange', label='Dogecoin')\n",
        "\n",
        "plt.title('Market Cap BTC X Dogecoin')\n",
        "plt.ylabel('Trilhões de dólares')\n",
        "plt.legend();"
      ],
      "execution_count": 39,
      "outputs": [
        {
          "output_type": "display_data",
          "data": {
            "image/png": "[encoded data removed]",
            "text/plain": [
              "<Figure size 432x288 with 1 Axes>"
            ]
          },
          "metadata": {
            "needs_background": "light"
          }
        }
      ]
    }
  ]
}